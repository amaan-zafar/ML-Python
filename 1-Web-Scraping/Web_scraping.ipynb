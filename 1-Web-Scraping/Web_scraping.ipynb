{
  "nbformat": 4,
  "nbformat_minor": 0,
  "metadata": {
    "colab": {
      "name": "1 Web scraping",
      "provenance": [],
      "collapsed_sections": [],
      "include_colab_link": true
    },
    "kernelspec": {
      "name": "python3",
      "display_name": "Python 3"
    }
  },
  "cells": [
    {
      "cell_type": "markdown",
      "metadata": {
        "id": "view-in-github",
        "colab_type": "text"
      },
      "source": [
        "<a href=\"https://colab.research.google.com/github/amaan-zafar/data-science-python/blob/1-Web-Scraping/Web_scraping.ipynb\" target=\"_parent\"><img src=\"https://colab.research.google.com/assets/colab-badge.svg\" alt=\"Open In Colab\"/></a>"
      ]
    },
    {
      "cell_type": "code",
      "metadata": {
        "id": "QHFtYsoGAawK"
      },
      "source": [
        "# Importing Libraries\n",
        "import requests\n",
        "from bs4 import BeautifulSoup"
      ],
      "execution_count": null,
      "outputs": []
    },
    {
      "cell_type": "markdown",
      "metadata": {
        "id": "GD_nhuiAKeaU"
      },
      "source": [
        "**User-defined Functions**"
      ]
    },
    {
      "cell_type": "code",
      "metadata": {
        "id": "2-_944IcKrEP"
      },
      "source": [
        "# To get a soup (html page) from a url\n",
        "def make_soup(url):\n",
        "  page = requests.get(url)\n",
        "  soup = BeautifulSoup(page.content, \"html.parser\")\n",
        "  return soup\n",
        "\n",
        "# To get all texts (after removing empty strings and stripping) from a tag/list of tags\n",
        "def get_texts_from_tags(tags, soup):\n",
        "  tag_texts = []\n",
        "  for text in soup.find_all(tags):\n",
        "    tag_texts.append(text.getText().strip())\n",
        "\n",
        "  # Return after removing all empty strings\n",
        "  return list(filter(None, tag_texts))"
      ],
      "execution_count": null,
      "outputs": []
    },
    {
      "cell_type": "code",
      "metadata": {
        "id": "ILAA24eUiTRh"
      },
      "source": [
        "URL = \"https://www.shiksha.com/humanities-social-sciences/articles/top-10-colleges-in-india-mhrd-blogId-15781\"\n",
        "soup = make_soup(URL)"
      ],
      "execution_count": null,
      "outputs": []
    },
    {
      "cell_type": "markdown",
      "metadata": {
        "id": "boKjnKY3ut7o"
      },
      "source": [
        "**Finding all text in Paragraph (p) tags**"
      ]
    },
    {
      "cell_type": "code",
      "metadata": {
        "id": "TSOeW92E8J3p",
        "colab": {
          "base_uri": "https://localhost:8080/"
        },
        "outputId": "8cf60d24-bc65-4a52-f6cb-6f57cb14c00f"
      },
      "source": [
        "all_text = get_texts_from_tags(['p'], soup)\n",
        "all_text"
      ],
      "execution_count": null,
      "outputs": [
        {
          "output_type": "execute_result",
          "data": {
            "text/plain": [
              "['Delhi University’s Miranda House has been ranked as the best college in the country. Find out which are the top 10 colleges in India as per MHRD-NIRF India Rankings 2020.',\n",
              " 'The Ministry of Human Resource Development (MHRD), Government of India has released the India Rankings 2020 on June 11 with support from National Institutional Ranking Framework (NIRF). The framework for India rankings was constituted in 2015. The NIRF-MRHD released the India rankings for the first time in 2016.',\n",
              " 'In the year 2020, over 1,600 institutes participated in the NIRF-MHRD India Rankings. In these rankings, the educational institutes are evaluated across parameters such as – Teaching, Learning and Resources (TLR), Research, Professional Practice (RP), Graduation Outcome (GO), Outreach and Inclusivity (OI) and Perception (PR). Under each of these parameters, educational institutes are evaluated out of a score of 100.',\n",
              " 'As part of India rankings 2020, NIRF-MHRD has ranked the top educational institutes across various categories, which are, universities, engineering colleges, colleges, management colleges, pharmacy colleges, medical colleges, architecture colleges and law colleges.',\n",
              " 'Mentioned below are the top 10 ranked colleges in India, according to NIRF-MRHD Rankings 2020.',\n",
              " 'Name',\n",
              " 'NIRF 2020 Rank',\n",
              " 'NIRF 2019 Rank',\n",
              " 'Miranda House',\n",
              " '1',\n",
              " '1',\n",
              " 'Lady Shri Ram College for Women',\n",
              " '2',\n",
              " '5',\n",
              " 'Hindu College',\n",
              " '3',\n",
              " '2',\n",
              " 'St Stephen’s College',\n",
              " '4',\n",
              " '4',\n",
              " 'Presidency College',\n",
              " '5',\n",
              " '3',\n",
              " 'Loyola College',\n",
              " '6',\n",
              " '6',\n",
              " 'St Xavier’s College',\n",
              " '7',\n",
              " '10',\n",
              " 'Ramakrishna Mission Vidyamandira',\n",
              " '7',\n",
              " '11',\n",
              " 'Hansraj College',\n",
              " '9',\n",
              " '9',\n",
              " 'PSGR Krishnammal College for Women',\n",
              " '10',\n",
              " '22',\n",
              " 'Further, one can view the list of top 10 colleges in the country along with their score in MHRD-NIRF Ranking 2020.',\n",
              " 'Mentioned below are the top 10 ranked colleges in India, according to NIRF-MRHD Rankings 2020.',\n",
              " 'Holding on to the top spot again is Miranda House. The college is known to be a pioneer in Science education as it was one of the few educational institutes that offered BSc (Hons) Botany course to students in 1948. Located at DU’s North Campus, the college was founded by Maurice Gwyerand and it was designed by Walter Sykes George. . At present Miranda House has 18 Departments and students are offered courses in Social Sciences, Humanities and Basic Sciences.',\n",
              " 'An all girl’s college, Miranda House was ranked to be the best college in India for the fourth time in a row in NIRF-MHRD India Rankings 2020.',\n",
              " 'Established in 1956 by Sir Shri Ram in memory of his wife, Lady Shri Ram College for Women (LSR) started functioning from a school building in Daryaganj, Central Delhi. The college was set up with an aim to offer women higher education. LSR College is part of DU’s South Campus and is known to have the best Arts faculty. The college campus is spread over an area of 15 acres and offers students courses like Economics, Elementary education, English, Hindi, History, Journalism and Mass Communication, Philosophy, Political Science, Psychology, Sanskrit, Sociology and Statistics.',\n",
              " 'Established in 1899, Hindu College was initially affiliated to Panjab University. It later got affiliated to the University of Delhi in 1922. Spread across an area of 25 acres in DU’s North Campus, Hindu College has 15 departments and offers courses such as Economics, English, Hindi, History, Sanskrit, Philosophy, Political Science, Sociology, Statistics, etc.',\n",
              " 'As compared to last year, the Hindu College fell one spot in NIRF 2020 rankings to claim the third spot on the list.',\n",
              " 'Founded in 1881 by the Cambridge Mission to Delhi, St Stephen’s College was initially affiliated to Calcutta University and thereafter to Punjab University. Later, when Delhi University was established in 1922, St Stephen’s College became one of the three original constituent colleges. Located at DU’s North Campus, the college has 14 departments that offer degree courses to students.',\n",
              " 'St Stephen’s College was placed at number four in NIRF 2019 rankings and it maintains the same position this year too.',\n",
              " 'Considered to be the mother body of University of Madras, Presidency College, Chennai was established in 1840. It is one of the two Presidency colleges set up by the British in India. The other college established by them being Presidency College, Kolkata. A popular Arts and Science educational institute, Presidency College, Chennai currently has around 25 departments offering Language, Arts, Commerce, Science and Physical Education courses.',\n",
              " 'Placed at the third spot last year in the top 10 rankings, the Presidency College has fallen two spots to claim the fifth rank among the top 10 colleges in India 2020.',\n",
              " 'Established in 1925 by the Society of Jesus (Jesuits), Loyola College at the time of its inception offered three UG courses (Mathematics, History and Economics) to 75 students. Affiliated to University of Madras, the college was awarded autonomous status in 1978. The official website informs: “Today, there are 19 PG courses and 19 UG courses (Arts, Sciences and Commerce) and 12 special Institutes offering various programmes to 12,107 students. 11 departments are offering MPhil programs and 12 departments offer PhD programmes. At present, 117 teaching staff members out of 286 hold doctoral degree. There are 182 non-teaching staff in service”.',\n",
              " 'The Loyola College has maintained sixth spot in the 2020 rankings as well.',\n",
              " 'St Xavier’s College was founded in 1860 by a Catholic Minority Religious Body, the Society of Jesus and was affiliated to the University of Calcutta in 1862. St Xavier’s, Kolkata offers UG and PG courses under five faculties – Arts, Science, Commerce, Business Administration and Education. The varsity also offers various professional certificate and diploma courses under career-oriented programmes and computer centre. The college has been consistently ranked among the top 10 colleges of India by both private and government ranking bodies.',\n",
              " 'St Xavier’s College was previously ranked 10th in NIRF-MHRD Rankings 2019 but this year it has jumped three spots to secure the seventh position.',\n",
              " 'Founded by the Ramakrishna Mission in 1941, Ramakrishna Mission Vidyamandira is a fully residential college for boys. Courses offered by Ramakrishna Mission Vidyamandir are in affiliation to University of Calcutta. At present, the college offers BA (Hons) and BSc (Hons) degrees in 14 disciplines and MA and MSc degrees in five disciplines.',\n",
              " 'Founded by DAV College Managing Committee on July 26, 1948, in the sacred memory of Mahatma Hansraj, the university has completed 72 years in imparting higher education. The college offers various programmes in streams such as Science, Arts and Commerce. Hansraj College also offers language courses in French, Spanish and German.',\n",
              " 'Hansraj has maintained the ninth\\xa0spot in NIRF-MHRD rankings 2020.',\n",
              " 'Established in 1963, PSGR Krishnammal College for Women offers degree programmes to female students. Arts, Science and Commerce programmes offered at PSGR Krishnammal College for Women are in affiliation with Bharathiar University.',\n",
              " 'Choose the right college',\n",
              " 'Looking for details on a specific college or just exploring what options are available? College and course selection can be stressful given that there are thousands of colleges in India. But not anymore! Now you can find all necessary details in one place. Click on the links below to see the list of colleges offering courses you may be interested to pursue. Use filters - Location, Course, Specialisation, Mode of Study, Accreditation, Total Fees - on the left-hand side of these pages to find the colleges you are looking for. You can read college reviews, compare colleges, read questions and answers about each course, and check eligibility criteria to decide on the college and course that works best for you.',\n",
              " 'Click Study Abroad\\xa0to find oversees options for UG and PG studies.',\n",
              " '2500+ Engineering Colleges in India',\n",
              " '900+ Design Colleges in India',\n",
              " '450+ Architecture & Planning Colleges in India',\n",
              " '550+ Law Colleges in India',\n",
              " '3300+ IT & Software Colleges in India',\n",
              " '1100+ Mass Comm & Media Colleges in India',\n",
              " '1500+ Science Colleges in India',\n",
              " '1000+ Hospitality & Travel Colleges in India',\n",
              " '350+ Aviation Colleges in India',\n",
              " '800+ Animation Colleges in India',\n",
              " '500+ Medicine & Health Sciences Colleges in India',\n",
              " '600+ Teaching & Education Colleges in India',\n",
              " '100+ Nursing Colleges in India',\n",
              " '100+ Beauty & Fitness Colleges in India',\n",
              " '1400+ Accounting & Commerce Colleges in India',\n",
              " '1500+ BBA Colleges in India',\n",
              " '800+ Banking, Finance, Insurance & Colleges in India',\n",
              " '600+ Arts (Fine/Visual/Performing) Colleges in India',\n",
              " '1400+ Humanities & Social Sciences Colleges in India',\n",
              " 'Read More:',\n",
              " 'Download this article as PDF to read offline',\n",
              " '...  Read Full Bio',\n",
              " '(1)',\n",
              " 'K',\n",
              " '15/10/20',\n",
              " 'Report Abuse',\n",
              " 'Killed',\n",
              " 'Reply to Killed king',\n",
              " 'Get our experts to answer your questions within 24 Hrs',\n",
              " 'Trade Marks belong to the respective owners. Copyright © 2021 Info edge India Ltd. All rights reserved.',\n",
              " 'We use cookies to improve your experience. By continuing to browse the site, you agree to our Privacy Policy and Cookie Policy.']"
            ]
          },
          "metadata": {
            "tags": []
          },
          "execution_count": 4
        }
      ]
    },
    {
      "cell_type": "markdown",
      "metadata": {
        "id": "5ncPE6HIu8KV"
      },
      "source": [
        "**Listing out all text in Header Tags**"
      ]
    },
    {
      "cell_type": "code",
      "metadata": {
        "colab": {
          "base_uri": "https://localhost:8080/"
        },
        "id": "Z-DJbTSdjTcg",
        "outputId": "6cda76db-ab43-4644-b37b-26f5e76a2e32"
      },
      "source": [
        "h_list = get_texts_from_tags(['h1', 'h2', 'h3', 'h4'], soup)\n",
        "h_list"
      ],
      "execution_count": null,
      "outputs": [
        {
          "output_type": "execute_result",
          "data": {
            "text/plain": [
              "['Top 10 Colleges in India 2020 by MHRD: Ranking, Placement, Fees',\n",
              " 'NIRF Rankings 2020: Top 10 Colleges in India',\n",
              " 'Rank 1 – Miranda House',\n",
              " 'Rank 2 – Lady Shri Ram College for Women',\n",
              " 'Rank 3 – Hindu College',\n",
              " 'Rank 4 – St Stephen’s College',\n",
              " 'Rank 5 – Presidency College',\n",
              " 'Rank 6 – Loyola College',\n",
              " 'Rank 7\\xa0–\\xa0St Xavier’s College, Kolkata',\n",
              " 'Rank 7 – Ramakrishna Mission Vidyamandira',\n",
              " 'Rank 9 – Hans Raj College',\n",
              " 'Rank 10 – PSGR Krishnammal College for Women',\n",
              " 'Comments',\n",
              " 'Shiksha',\n",
              " 'Colleges',\n",
              " 'Others',\n",
              " 'Our Group']"
            ]
          },
          "metadata": {
            "tags": []
          },
          "execution_count": 5
        }
      ]
    },
    {
      "cell_type": "markdown",
      "metadata": {
        "id": "8X10LpPI1t0t"
      },
      "source": [
        "**Finding contents from (table) tag**"
      ]
    },
    {
      "cell_type": "code",
      "metadata": {
        "colab": {
          "base_uri": "https://localhost:8080/"
        },
        "id": "GmfYCJeuk9z5",
        "outputId": "0bc77c2c-2166-4ddc-fbe0-1bbd2aaa96d0"
      },
      "source": [
        "#Contents only in Table Header\n",
        "th_list = get_texts_from_tags(['th'], soup)\n",
        "th_list"
      ],
      "execution_count": null,
      "outputs": [
        {
          "output_type": "execute_result",
          "data": {
            "text/plain": [
              "['Name', 'NIRF 2020 Rank', 'NIRF 2019 Rank']"
            ]
          },
          "metadata": {
            "tags": []
          },
          "execution_count": 6
        }
      ]
    },
    {
      "cell_type": "code",
      "metadata": {
        "id": "QXZ6JoHWIzcP"
      },
      "source": [
        "# Finding only that table for which table header exists. \n",
        "# NOTE : Specific to this webpage only\n",
        "table_body = soup.find_all('th')[0].find_parent('tbody')"
      ],
      "execution_count": null,
      "outputs": []
    },
    {
      "cell_type": "code",
      "metadata": {
        "colab": {
          "base_uri": "https://localhost:8080/"
        },
        "id": "ezKMqs3Cl4qt",
        "outputId": "40dea860-a87e-4300-d3ab-87d7f6642292"
      },
      "source": [
        "# Contents in Table Details of table_body\n",
        "td_list = []\n",
        "for h in table_body.find_all('td'):\n",
        "  td_list.append(h.getText().strip().split('\\n'))\n",
        "\n",
        "td_list"
      ],
      "execution_count": null,
      "outputs": [
        {
          "output_type": "execute_result",
          "data": {
            "text/plain": [
              "[['Miranda House'],\n",
              " ['1'],\n",
              " ['1'],\n",
              " ['Lady Shri Ram College for Women'],\n",
              " ['2'],\n",
              " ['5'],\n",
              " ['Hindu College'],\n",
              " ['3'],\n",
              " ['2'],\n",
              " ['St Stephen’s College'],\n",
              " ['4'],\n",
              " ['4'],\n",
              " ['Presidency College'],\n",
              " ['5'],\n",
              " ['3'],\n",
              " ['Loyola College'],\n",
              " ['6'],\n",
              " ['6'],\n",
              " ['St Xavier’s College'],\n",
              " ['7'],\n",
              " ['10'],\n",
              " ['Ramakrishna Mission Vidyamandira'],\n",
              " ['7'],\n",
              " ['11'],\n",
              " ['Hansraj College'],\n",
              " ['9'],\n",
              " ['9'],\n",
              " ['PSGR Krishnammal College for Women'],\n",
              " ['10'],\n",
              " ['22']]"
            ]
          },
          "metadata": {
            "tags": []
          },
          "execution_count": 8
        }
      ]
    },
    {
      "cell_type": "markdown",
      "metadata": {
        "id": "5_1B_zvXvrHO"
      },
      "source": [
        "**For obtaining structured Content , we use Table Row (tr) and obtain corresponding links using href tag**"
      ]
    },
    {
      "cell_type": "code",
      "metadata": {
        "colab": {
          "base_uri": "https://localhost:8080/"
        },
        "id": "ZPr6qRGwlU7j",
        "outputId": "7693a30c-8725-440a-9153-87b66d7380d5"
      },
      "source": [
        "tr_list = []\n",
        "# To store list of college web links\n",
        "url_list = []\n",
        "\n",
        "for tr in table_body.find_all('tr'):\n",
        "  for a in tr.find_all('a', href=True):\n",
        "    url_list.append(a['href'])\n",
        "    text_str = str(tr.getText().strip()+'\\n'+a['href'])\n",
        "    tr_list.append(text_str.split('\\n'))\n",
        "\n",
        "tr_list"
      ],
      "execution_count": null,
      "outputs": [
        {
          "output_type": "execute_result",
          "data": {
            "text/plain": [
              "[['Miranda House ',\n",
              "  ' 1 ',\n",
              "  ' 1',\n",
              "  'https://www.shiksha.com/college/miranda-house-north-campus-delhi-3090'],\n",
              " ['Lady Shri Ram College for Women ',\n",
              "  ' 2\\xa0 ',\n",
              "  ' 5',\n",
              "  'https://www.shiksha.com/college/lady-shri-ram-college-for-women-lajpat-nagar-delhi-23895'],\n",
              " ['Hindu College ',\n",
              "  ' 3 ',\n",
              "  ' 2',\n",
              "  'https://www.shiksha.com/college/the-hindu-college-guntur-21399'],\n",
              " ['St Stephen’s College ',\n",
              "  ' 4 ',\n",
              "  ' 4',\n",
              "  'https://www.shiksha.com/college/st-stephen-s-college-north-campus-delhi-23933'],\n",
              " ['Presidency College ',\n",
              "  ' 5 ',\n",
              "  ' 3',\n",
              "  'https://www.shiksha.com/college/presidency-college-chennai-chepauk-20896'],\n",
              " ['Loyola College ',\n",
              "  ' 6 ',\n",
              "  ' 6',\n",
              "  'https://www.shiksha.com/college/loyola-college-nungambakkam-chennai-1108'],\n",
              " ['St Xavier’s College ',\n",
              "  ' 7 ',\n",
              "  ' 10',\n",
              "  'https://www.shiksha.com/college/st-xavier-s-college-kolkata-park-street-23242'],\n",
              " ['Ramakrishna Mission Vidyamandira ',\n",
              "  ' 7 ',\n",
              "  ' 11',\n",
              "  'https://www.shiksha.com/college/ramakrishna-mission-vidyamandira-howrah-52978'],\n",
              " ['Hansraj College ',\n",
              "  ' 9 ',\n",
              "  ' 9',\n",
              "  'https://www.shiksha.com/college/hansraj-college-malka-ganj-delhi-3062'],\n",
              " ['PSGR Krishnammal College for Women ',\n",
              "  ' 10 ',\n",
              "  ' 22',\n",
              "  'https://www.shiksha.com/college/psgr-krishnammal-college-for-women-coimbatore-22882']]"
            ]
          },
          "metadata": {
            "tags": []
          },
          "execution_count": 9
        }
      ]
    },
    {
      "cell_type": "markdown",
      "metadata": {
        "id": "dIHtl04A1TwW"
      },
      "source": [
        "**Finding description of all 10 colleges given in paragraph (p) tags**"
      ]
    },
    {
      "cell_type": "code",
      "metadata": {
        "colab": {
          "base_uri": "https://localhost:8080/"
        },
        "id": "9fuXpAsrAa5c",
        "outputId": "fea76d05-0116-4b7e-d582-44e37dec34c8"
      },
      "source": [
        "# NOTE : Specific to this webpage only\n",
        "college_info = []\n",
        "for i in soup.find_all('h3'):\n",
        "  temp_str=''\n",
        "  for j in i.find_all_next(['p', 'h3']):\n",
        "    if (j.name=='p'):\n",
        "      if (j.find_all('strong')):\n",
        "        college_info.append(temp_str)\n",
        "        break\n",
        "      temp_str = temp_str + j.getText()\n",
        "    elif(j.name=='h3'):\n",
        "      college_info.append(temp_str)\n",
        "      temp_str=''\n",
        "      break\n",
        "\n",
        "# To remove all empty strings in all_text\n",
        "college_info = list(filter(None, college_info))\n",
        "college_info\n"
      ],
      "execution_count": null,
      "outputs": [
        {
          "output_type": "execute_result",
          "data": {
            "text/plain": [
              "['Holding on to the top spot again is Miranda House. The college is known to be a pioneer in Science education as it was one of the few educational institutes that offered BSc (Hons) Botany course to students in 1948. Located at DU’s North Campus, the college was founded by Maurice Gwyerand and it was designed by Walter Sykes George. . At present Miranda House has 18 Departments and students are offered courses in Social Sciences, Humanities and Basic Sciences.\\xa0An all girl’s college, Miranda House was ranked to be the best college in India for the fourth time in a row in NIRF-MHRD India Rankings 2020.',\n",
              " 'Established in 1956 by Sir Shri Ram in memory of his wife, Lady Shri Ram College for Women (LSR) started functioning from a school building in Daryaganj, Central Delhi. The college was set up with an aim to offer women higher education. LSR College is part of DU’s South Campus and is known to have the best Arts faculty. The college campus is spread over an area of 15 acres and offers students courses like Economics, Elementary education, English, Hindi, History, Journalism and Mass Communication, Philosophy, Political Science, Psychology, Sanskrit, Sociology and Statistics.',\n",
              " 'Established in 1899, Hindu College was initially affiliated to Panjab University. It later got affiliated to the University of Delhi in 1922. Spread across an area of 25 acres in DU’s North Campus, Hindu College has 15 departments and offers courses such as Economics, English, Hindi, History, Sanskrit, Philosophy, Political Science, Sociology, Statistics, etc.As compared to last year, the Hindu College fell one spot in NIRF 2020 rankings to claim the third spot on the list.',\n",
              " 'Founded in 1881 by the Cambridge Mission to Delhi, St Stephen’s College was initially affiliated to Calcutta University and thereafter to Punjab University. Later, when Delhi University was established in 1922, St Stephen’s College became one of the three original constituent colleges. Located at DU’s North Campus, the college has 14 departments that offer degree courses to students.St Stephen’s College was placed at number four in NIRF 2019 rankings and it maintains the same position this year too.',\n",
              " 'Considered to be the mother body of University of Madras, Presidency College, Chennai was established in 1840. It is one of the two Presidency colleges set up by the British in India. The other college established by them being Presidency College, Kolkata. A popular Arts and Science educational institute, Presidency College, Chennai currently has around 25 departments offering Language, Arts, Commerce, Science and Physical Education courses.Placed at the third spot last year in the top 10 rankings, the Presidency College has fallen two spots to claim the fifth rank among the top 10 colleges in India 2020.',\n",
              " 'Established in 1925 by the Society of Jesus (Jesuits), Loyola College at the time of its inception offered three UG courses (Mathematics, History and Economics) to 75 students. Affiliated to University of Madras, the college was awarded autonomous status in 1978. The official website informs: “Today, there are 19 PG courses and 19 UG courses (Arts, Sciences and Commerce) and 12 special Institutes offering various programmes to 12,107 students. 11 departments are offering MPhil programs and 12 departments offer PhD programmes. At present, 117 teaching staff members out of 286 hold doctoral degree. There are 182 non-teaching staff in service”.The Loyola College has maintained sixth spot in the 2020 rankings as well.',\n",
              " 'St Xavier’s College was founded in 1860 by a Catholic Minority Religious Body, the Society of Jesus and was affiliated to the University of Calcutta in 1862. St Xavier’s, Kolkata offers UG and PG courses under five faculties – Arts, Science, Commerce, Business Administration and Education. The varsity also offers various professional certificate and diploma courses under career-oriented programmes and computer centre. The college has been consistently ranked among the top 10 colleges of India by both private and government ranking bodies.St Xavier’s College was previously ranked 10th in NIRF-MHRD Rankings 2019 but this year it has jumped three spots to secure the seventh position.',\n",
              " 'Founded by the Ramakrishna Mission in 1941, Ramakrishna Mission Vidyamandira is a fully residential college for boys. Courses offered by Ramakrishna Mission Vidyamandir are in affiliation to University of Calcutta. At present, the college offers BA (Hons) and BSc (Hons) degrees in 14 disciplines and MA and MSc degrees in five disciplines.',\n",
              " 'Founded by DAV College Managing Committee on July 26, 1948, in the sacred memory of Mahatma Hansraj, the university has completed 72 years in imparting higher education. The college offers various programmes in streams such as Science, Arts and Commerce. Hansraj College also offers language courses in French, Spanish and German.Hansraj has maintained the ninth\\xa0spot in NIRF-MHRD rankings 2020.',\n",
              " 'Established in 1963, PSGR Krishnammal College for Women offers degree programmes to female students. Arts, Science and Commerce programmes offered at PSGR Krishnammal College for Women are in affiliation with Bharathiar University.']"
            ]
          },
          "metadata": {
            "tags": []
          },
          "execution_count": 10
        }
      ]
    },
    {
      "cell_type": "code",
      "metadata": {
        "colab": {
          "base_uri": "https://localhost:8080/"
        },
        "id": "AS5broZe5EPT",
        "outputId": "75189dd8-c687-4888-fb8e-338815c50cbf"
      },
      "source": [
        "# Adding college information to tr_list\n",
        "\n",
        "for i in range(10):\n",
        "  tr_list[i].append(college_info[i])\n",
        "tr_list"
      ],
      "execution_count": null,
      "outputs": [
        {
          "output_type": "execute_result",
          "data": {
            "text/plain": [
              "[['Miranda House ',\n",
              "  ' 1 ',\n",
              "  ' 1',\n",
              "  'https://www.shiksha.com/college/miranda-house-north-campus-delhi-3090',\n",
              "  'Holding on to the top spot again is Miranda House. The college is known to be a pioneer in Science education as it was one of the few educational institutes that offered BSc (Hons) Botany course to students in 1948. Located at DU’s North Campus, the college was founded by Maurice Gwyerand and it was designed by Walter Sykes George. . At present Miranda House has 18 Departments and students are offered courses in Social Sciences, Humanities and Basic Sciences.\\xa0An all girl’s college, Miranda House was ranked to be the best college in India for the fourth time in a row in NIRF-MHRD India Rankings 2020.'],\n",
              " ['Lady Shri Ram College for Women ',\n",
              "  ' 2\\xa0 ',\n",
              "  ' 5',\n",
              "  'https://www.shiksha.com/college/lady-shri-ram-college-for-women-lajpat-nagar-delhi-23895',\n",
              "  'Established in 1956 by Sir Shri Ram in memory of his wife, Lady Shri Ram College for Women (LSR) started functioning from a school building in Daryaganj, Central Delhi. The college was set up with an aim to offer women higher education. LSR College is part of DU’s South Campus and is known to have the best Arts faculty. The college campus is spread over an area of 15 acres and offers students courses like Economics, Elementary education, English, Hindi, History, Journalism and Mass Communication, Philosophy, Political Science, Psychology, Sanskrit, Sociology and Statistics.'],\n",
              " ['Hindu College ',\n",
              "  ' 3 ',\n",
              "  ' 2',\n",
              "  'https://www.shiksha.com/college/the-hindu-college-guntur-21399',\n",
              "  'Established in 1899, Hindu College was initially affiliated to Panjab University. It later got affiliated to the University of Delhi in 1922. Spread across an area of 25 acres in DU’s North Campus, Hindu College has 15 departments and offers courses such as Economics, English, Hindi, History, Sanskrit, Philosophy, Political Science, Sociology, Statistics, etc.As compared to last year, the Hindu College fell one spot in NIRF 2020 rankings to claim the third spot on the list.'],\n",
              " ['St Stephen’s College ',\n",
              "  ' 4 ',\n",
              "  ' 4',\n",
              "  'https://www.shiksha.com/college/st-stephen-s-college-north-campus-delhi-23933',\n",
              "  'Founded in 1881 by the Cambridge Mission to Delhi, St Stephen’s College was initially affiliated to Calcutta University and thereafter to Punjab University. Later, when Delhi University was established in 1922, St Stephen’s College became one of the three original constituent colleges. Located at DU’s North Campus, the college has 14 departments that offer degree courses to students.St Stephen’s College was placed at number four in NIRF 2019 rankings and it maintains the same position this year too.'],\n",
              " ['Presidency College ',\n",
              "  ' 5 ',\n",
              "  ' 3',\n",
              "  'https://www.shiksha.com/college/presidency-college-chennai-chepauk-20896',\n",
              "  'Considered to be the mother body of University of Madras, Presidency College, Chennai was established in 1840. It is one of the two Presidency colleges set up by the British in India. The other college established by them being Presidency College, Kolkata. A popular Arts and Science educational institute, Presidency College, Chennai currently has around 25 departments offering Language, Arts, Commerce, Science and Physical Education courses.Placed at the third spot last year in the top 10 rankings, the Presidency College has fallen two spots to claim the fifth rank among the top 10 colleges in India 2020.'],\n",
              " ['Loyola College ',\n",
              "  ' 6 ',\n",
              "  ' 6',\n",
              "  'https://www.shiksha.com/college/loyola-college-nungambakkam-chennai-1108',\n",
              "  'Established in 1925 by the Society of Jesus (Jesuits), Loyola College at the time of its inception offered three UG courses (Mathematics, History and Economics) to 75 students. Affiliated to University of Madras, the college was awarded autonomous status in 1978. The official website informs: “Today, there are 19 PG courses and 19 UG courses (Arts, Sciences and Commerce) and 12 special Institutes offering various programmes to 12,107 students. 11 departments are offering MPhil programs and 12 departments offer PhD programmes. At present, 117 teaching staff members out of 286 hold doctoral degree. There are 182 non-teaching staff in service”.The Loyola College has maintained sixth spot in the 2020 rankings as well.'],\n",
              " ['St Xavier’s College ',\n",
              "  ' 7 ',\n",
              "  ' 10',\n",
              "  'https://www.shiksha.com/college/st-xavier-s-college-kolkata-park-street-23242',\n",
              "  'St Xavier’s College was founded in 1860 by a Catholic Minority Religious Body, the Society of Jesus and was affiliated to the University of Calcutta in 1862. St Xavier’s, Kolkata offers UG and PG courses under five faculties – Arts, Science, Commerce, Business Administration and Education. The varsity also offers various professional certificate and diploma courses under career-oriented programmes and computer centre. The college has been consistently ranked among the top 10 colleges of India by both private and government ranking bodies.St Xavier’s College was previously ranked 10th in NIRF-MHRD Rankings 2019 but this year it has jumped three spots to secure the seventh position.'],\n",
              " ['Ramakrishna Mission Vidyamandira ',\n",
              "  ' 7 ',\n",
              "  ' 11',\n",
              "  'https://www.shiksha.com/college/ramakrishna-mission-vidyamandira-howrah-52978',\n",
              "  'Founded by the Ramakrishna Mission in 1941, Ramakrishna Mission Vidyamandira is a fully residential college for boys. Courses offered by Ramakrishna Mission Vidyamandir are in affiliation to University of Calcutta. At present, the college offers BA (Hons) and BSc (Hons) degrees in 14 disciplines and MA and MSc degrees in five disciplines.'],\n",
              " ['Hansraj College ',\n",
              "  ' 9 ',\n",
              "  ' 9',\n",
              "  'https://www.shiksha.com/college/hansraj-college-malka-ganj-delhi-3062',\n",
              "  'Founded by DAV College Managing Committee on July 26, 1948, in the sacred memory of Mahatma Hansraj, the university has completed 72 years in imparting higher education. The college offers various programmes in streams such as Science, Arts and Commerce. Hansraj College also offers language courses in French, Spanish and German.Hansraj has maintained the ninth\\xa0spot in NIRF-MHRD rankings 2020.'],\n",
              " ['PSGR Krishnammal College for Women ',\n",
              "  ' 10 ',\n",
              "  ' 22',\n",
              "  'https://www.shiksha.com/college/psgr-krishnammal-college-for-women-coimbatore-22882',\n",
              "  'Established in 1963, PSGR Krishnammal College for Women offers degree programmes to female students. Arts, Science and Commerce programmes offered at PSGR Krishnammal College for Women are in affiliation with Bharathiar University.']]"
            ]
          },
          "metadata": {
            "tags": []
          },
          "execution_count": 11
        }
      ]
    },
    {
      "cell_type": "markdown",
      "metadata": {
        "id": "jnaiZAJ8v5vn"
      },
      "source": [
        "**Converting to Pandas dataframe, for neat structure**"
      ]
    },
    {
      "cell_type": "code",
      "metadata": {
        "colab": {
          "base_uri": "https://localhost:8080/",
          "height": 542
        },
        "id": "qsgQ1kawpIFB",
        "outputId": "01c6d4f1-1808-41a1-ae74-4c836dc0e55d"
      },
      "source": [
        "import pandas as pd\n",
        "th_list.append('URL')\n",
        "th_list.append('Information')\n",
        "df_data = pd.DataFrame(tr_list, columns=th_list)\n",
        "df_data"
      ],
      "execution_count": null,
      "outputs": [
        {
          "output_type": "execute_result",
          "data": {
            "text/html": [
              "<div>\n",
              "<style scoped>\n",
              "    .dataframe tbody tr th:only-of-type {\n",
              "        vertical-align: middle;\n",
              "    }\n",
              "\n",
              "    .dataframe tbody tr th {\n",
              "        vertical-align: top;\n",
              "    }\n",
              "\n",
              "    .dataframe thead th {\n",
              "        text-align: right;\n",
              "    }\n",
              "</style>\n",
              "<table border=\"1\" class=\"dataframe\">\n",
              "  <thead>\n",
              "    <tr style=\"text-align: right;\">\n",
              "      <th></th>\n",
              "      <th>Name</th>\n",
              "      <th>NIRF 2020 Rank</th>\n",
              "      <th>NIRF 2019 Rank</th>\n",
              "      <th>URL</th>\n",
              "      <th>Information</th>\n",
              "    </tr>\n",
              "  </thead>\n",
              "  <tbody>\n",
              "    <tr>\n",
              "      <th>0</th>\n",
              "      <td>Miranda House</td>\n",
              "      <td>1</td>\n",
              "      <td>1</td>\n",
              "      <td>https://www.shiksha.com/college/miranda-house-...</td>\n",
              "      <td>Holding on to the top spot again is Miranda Ho...</td>\n",
              "    </tr>\n",
              "    <tr>\n",
              "      <th>1</th>\n",
              "      <td>Lady Shri Ram College for Women</td>\n",
              "      <td>2</td>\n",
              "      <td>5</td>\n",
              "      <td>https://www.shiksha.com/college/lady-shri-ram-...</td>\n",
              "      <td>Established in 1956 by Sir Shri Ram in memory ...</td>\n",
              "    </tr>\n",
              "    <tr>\n",
              "      <th>2</th>\n",
              "      <td>Hindu College</td>\n",
              "      <td>3</td>\n",
              "      <td>2</td>\n",
              "      <td>https://www.shiksha.com/college/the-hindu-coll...</td>\n",
              "      <td>Established in 1899, Hindu College was initial...</td>\n",
              "    </tr>\n",
              "    <tr>\n",
              "      <th>3</th>\n",
              "      <td>St Stephen’s College</td>\n",
              "      <td>4</td>\n",
              "      <td>4</td>\n",
              "      <td>https://www.shiksha.com/college/st-stephen-s-c...</td>\n",
              "      <td>Founded in 1881 by the Cambridge Mission to De...</td>\n",
              "    </tr>\n",
              "    <tr>\n",
              "      <th>4</th>\n",
              "      <td>Presidency College</td>\n",
              "      <td>5</td>\n",
              "      <td>3</td>\n",
              "      <td>https://www.shiksha.com/college/presidency-col...</td>\n",
              "      <td>Considered to be the mother body of University...</td>\n",
              "    </tr>\n",
              "    <tr>\n",
              "      <th>5</th>\n",
              "      <td>Loyola College</td>\n",
              "      <td>6</td>\n",
              "      <td>6</td>\n",
              "      <td>https://www.shiksha.com/college/loyola-college...</td>\n",
              "      <td>Established in 1925 by the Society of Jesus (J...</td>\n",
              "    </tr>\n",
              "    <tr>\n",
              "      <th>6</th>\n",
              "      <td>St Xavier’s College</td>\n",
              "      <td>7</td>\n",
              "      <td>10</td>\n",
              "      <td>https://www.shiksha.com/college/st-xavier-s-co...</td>\n",
              "      <td>St Xavier’s College was founded in 1860 by a C...</td>\n",
              "    </tr>\n",
              "    <tr>\n",
              "      <th>7</th>\n",
              "      <td>Ramakrishna Mission Vidyamandira</td>\n",
              "      <td>7</td>\n",
              "      <td>11</td>\n",
              "      <td>https://www.shiksha.com/college/ramakrishna-mi...</td>\n",
              "      <td>Founded by the Ramakrishna Mission in 1941, Ra...</td>\n",
              "    </tr>\n",
              "    <tr>\n",
              "      <th>8</th>\n",
              "      <td>Hansraj College</td>\n",
              "      <td>9</td>\n",
              "      <td>9</td>\n",
              "      <td>https://www.shiksha.com/college/hansraj-colleg...</td>\n",
              "      <td>Founded by DAV College Managing Committee on J...</td>\n",
              "    </tr>\n",
              "    <tr>\n",
              "      <th>9</th>\n",
              "      <td>PSGR Krishnammal College for Women</td>\n",
              "      <td>10</td>\n",
              "      <td>22</td>\n",
              "      <td>https://www.shiksha.com/college/psgr-krishnamm...</td>\n",
              "      <td>Established in 1963, PSGR Krishnammal College ...</td>\n",
              "    </tr>\n",
              "  </tbody>\n",
              "</table>\n",
              "</div>"
            ],
            "text/plain": [
              "                                  Name  ...                                        Information\n",
              "0                       Miranda House   ...  Holding on to the top spot again is Miranda Ho...\n",
              "1     Lady Shri Ram College for Women   ...  Established in 1956 by Sir Shri Ram in memory ...\n",
              "2                       Hindu College   ...  Established in 1899, Hindu College was initial...\n",
              "3                St Stephen’s College   ...  Founded in 1881 by the Cambridge Mission to De...\n",
              "4                  Presidency College   ...  Considered to be the mother body of University...\n",
              "5                      Loyola College   ...  Established in 1925 by the Society of Jesus (J...\n",
              "6                 St Xavier’s College   ...  St Xavier’s College was founded in 1860 by a C...\n",
              "7    Ramakrishna Mission Vidyamandira   ...  Founded by the Ramakrishna Mission in 1941, Ra...\n",
              "8                     Hansraj College   ...  Founded by DAV College Managing Committee on J...\n",
              "9  PSGR Krishnammal College for Women   ...  Established in 1963, PSGR Krishnammal College ...\n",
              "\n",
              "[10 rows x 5 columns]"
            ]
          },
          "metadata": {
            "tags": []
          },
          "execution_count": 12
        }
      ]
    },
    {
      "cell_type": "markdown",
      "metadata": {
        "id": "H7bJwngqQLBj"
      },
      "source": [
        "**Writing data to CSV**"
      ]
    },
    {
      "cell_type": "code",
      "metadata": {
        "id": "Blq6ye-epuwa"
      },
      "source": [
        "# Writing data from dataframe to CSV directly\n",
        "# df_data.to_csv('alternative_music_sites.csv',sep='|')"
      ],
      "execution_count": null,
      "outputs": []
    },
    {
      "cell_type": "code",
      "metadata": {
        "id": "5HJPpdQwsqCM"
      },
      "source": [
        "import csv\n",
        "with open('_top10collegesinfo.csv', 'w') as f: \n",
        "    write = csv.writer(f)\n",
        "    write.writerow(th_list) \n",
        "    write.writerows(tr_list)"
      ],
      "execution_count": null,
      "outputs": []
    },
    {
      "cell_type": "markdown",
      "metadata": {
        "id": "JX--HYPYDjrc"
      },
      "source": [
        "**Recursive Scraping**"
      ]
    },
    {
      "cell_type": "code",
      "metadata": {
        "colab": {
          "base_uri": "https://localhost:8080/",
          "height": 154
        },
        "id": "bZDJx5eSSAhO",
        "outputId": "2e24c40b-c2ee-4c61-cf50-241e873975e2"
      },
      "source": [
        "college_web_content=[]\n",
        "for url in url_list:\n",
        "  url_soup = make_soup(url)\n",
        "  all_text_list = get_texts_from_tags(['p'], url_soup)\n",
        "  all_text_str = ' '.join(all_text_list)\n",
        "  college_web_content.append(all_text_str)\n",
        "college_web_content[0]"
      ],
      "execution_count": null,
      "outputs": [
        {
          "output_type": "execute_result",
          "data": {
            "application/vnd.google.colaboratory.intrinsic+json": {
              "type": "string"
            },
            "text/plain": [
              "\"Ranked 2 for Science  by India Today 2021  +3 more Updated on Jun 12, 2021 Founded in 1948, Miranda House is one of the oldest and premier women's institutions under the University of Delhi. The college was founded by Lady Edwina Mountbatten to promote higher education for women. The college boasts of its teaching departments. Its Humanities and Social Sciences section comes with 13 departments which are considered best amongst the rest of the colleges of the University. Jun 24, 2021: Top 10 BSc, MSc colleges in India The college caters to over 3000 students and offers education in sciences and liberal arts. It has ranked as the best college across the nation by NIRF rankings in 2019. The college offers admission on the basis of merit decided by the cut-off lists issued by Delhi University. For the detailed adm The college caters to over 3000 students and offers education in sciences and liberal arts. It has ranked as the best college across the nation by NIRF rankings in 2019. The college offers admission on the basis of merit decided by the cut-off lists issued by Delhi University. For the detailed admission process, Click Here The college maintains a placement cell that operates the activities of career counselling and campus recruitment. The college is visited by a plethora of companies and budding employers to recruit students every year. The college has a great reputation and a good number of students got placement yearly. Some of the known recruiters include Indian Express, Google, Star India, Oxford University Press, Standard Chartered Bank, Essar Group, Zee Telefilm Limited, Pricewaterhouse Coopers, Deloitte, Ernst&Young, Max New York Life Insurance Company Blackstone Group, Absolutdata Research and Analytics Pvt. Ltd., Jaypee Group, Thomsondigital, IBM Daksh Business Process Services Pvt. Ltd., Team Lease Services Pvt. Ltd., Wipro BPO, HP Ltd., Star News, Pulse Media Pvt. and many more. For more information about placements, Click Here As the college is a constituent of Delhi University, students can apply for several scholarships made for meritorious and financially needy students. Some of the scholarships for undergraduate programmes are: They can also apply for other scholarships including State Government Scholarships and Scholarships for Reserved Category. To view, the latest reviews Click Here Distribution of Rating Placements: The course B.A. Political Science Hons is a very helpful course to gain better knowledge related to politics and administration. I don't know about placements yet, as I've not been to college due to the corona pandemic, and I am in 1st year only. Infrastructure: I haven't been to college yet due to Covid-19, so I'm unable to describe the facilities and infrastructure of the college. Neither do I know about the hostel nor about the food available in the mess and canteen. I lack knowledge about the sports and game... Placements: Our college has a very active placement cell. Students interested in getting a job after their 3 years of the course can work hard, and they should be a part of the placement cell. Students can get placed as data analysts in various reputed companies like Google, Microsoft and others. Infrastructure: The infrastructure is amazing, and there are water coolers, Xerox shop and canteen. The campus is lush green, which creates positive vibes. It has also been a shooting location for several movies such as Raazi, Fukr... Placements: All students got placed, and some got a masters degree from well-known institutions. Companies like Times of India and EY hire students from our institution. There is complete help in terms of resume making and discussing further career goals. Infrastructure: The campus has multiple cafeterias which are offering a variety of affordable and delicious meals. The overall infrastructure is good and serene with a lot of greenery. The campus always has some engaging events for students, and there is freedom for art en... Placements: Our course was a theoretical-oriented arts course, so we did not have any placements. Students of most of the courses are required to pursue a masters degree in order to get a good job. However, the economics department and some science courses have placements, but I have heard from my friends that placements were not very successful. Infrastructure: Our college had everything like Wi-Fi facility, labs, beautiful lawns, three eateries and classrooms with proper wooden furniture and projectors. The infrastructure... Placements: Companies from management and marketing, IT, sales and communication domain visit our college to offer placements. I have been offered an internship in my second year in a hospitality organisation which helped me to develop my personality. It also offered me a job opportunity later. Infrastructure: The canteen, sports, Wi-Fi facility, library, classrooms, labs and everything was available on the campus. SAC was also available for students activities. There is a vast ground for sports and also a gymnasium area. T... Placements: Our college provides great options for placements. The placement committee of the college invites many known and flourishing companies like Wipro, Decathlon, Stanza, etc. Companies select students after conducting seminars and interviews. The committee also ensures part-time jobs. Internships are readily available for the students interested. Infrastructure: The infrastructure of the college is beautiful and consists of well- ventilated classrooms, and a library with a special corner to blind students, the libra... Placements: The Placement Cell in our college is really active and they organise meetings with companies for third years who are interested. I'm not too sure about the opportunities for pure humanities students, but economics hons students do get placement options. Infrastructure: The college campus is exceptional. There's a basketball court, outdoor gym, tennis court and a couple of lawns for arts societies to practice. Classrooms are big so it doesn't feel suffocated. Miranda has one of the most beautiful college campus. Placements: The placement cell of our college is amazing, and it has been able to invite a lot of reputed companies for placements, which include McKinsey, Accenture, etc. Internship opportunities are also great, and companies in which students get internships are GlobalShala, Blitz Jobs, etc. Infrastructure: The infrastructure of our college is amazing, and our college also includes ramps and elevators for disabled students. There is also an excellent library, which has thousands of books ranging from different courses. Ho... Miranda House, affiliated with DU, will consider UG admission 2021 based on the merit of Class 12 this year, as declared by DU's VC. However, due to the ongoing pandemic, there are speculations about changes in the DU admission process 2021. Any changes made to Miranda House admission process 2021 will be published here as soon as they are released by the University. Latest Update Miranda House admission usually starts in the mid of May (after the declaration of Class 12 results). However, it is delayed for the 2021-22 session (similar to 2020 admission) due to Covid-19. The college offers UG, PG and certificate courses in the field of Arts, Science, Education and Commerce and is mostly popular for its Science programmes. DFP-Banner Miranda House admis Institute accepts various scholarships :\\nFor details refer to the link below : \\nhttp://mirandahouse.ac.in/studentlife/awardscholarships.php# Miranda House along with other DU constituent colleges released its first, second, third, fourth, fifth, sixth and seventh cutoff lists for UG admission on October 10, 17, 24, 31, November 7, 28 and December 5, respectively. BA (H) Economics with 97.50% turned out to be the course with the highest seventh cutoff 2020 in the General category. Candidates, who wish to apply for Miranda House admission, can check the cut off details mentioned on this page. Also, keep checking this page for the next cut off lists that are yet to be announced by Delhi University. Latest Updates Miranda House seventh cut off 2020 was released on December 5, 2020. The document verification under this list will take place between December 7 and 9 and the last date of fee payment under this round Tempest, the annual cultural festival of Miranda House is a multi-day event w...Tempest, the annual cultural festival of Miranda House is a multi-day event which includes dance and singing competitions, ad mad show, quiz, debates, fashion show, face painting, nukkad natak, star night etc.more M 2019-06-17 17:51:15 Is maths compulsory for ba hons economics in +2. Reply to Megha Goswami Beginner-Level 4 2 years ago Yes, to pursue BA (Hons) Economics from any college of DU, maths is a compulsory subject. Scholar-Level 16 2 years ago No maths is not compulsory for BA economics honors but you should have economics as a subject. S 2021-05-18 09:35:20 I got 69.6% in 12th board exam. Can I get admission in DU Miranda house. Reply to Surbhi bala a Contributor-Level 6 a week ago He/ she must score minimum 50% marks (45% for SC/ ST) in the qualifying exam to be eligible for examination. Mandatory Subject: Candidates must have Physics &amp; Chemistry as their mandatory subject along with any one from Chemistry/ Bio-technology/ Computer Science/ Biology in their qualify...He/ she must score minimum 50% marks (45% for SC/ ST) in the qualifying exam to be eligible for examination. Mandatory Subject: Candidates must have Physics &amp; Chemistry as their mandatory subject along with any one from Chemistry/ Bio-technology/ Computer Science/ Biology in their qualifying exam.more A 2021-06-22 10:25:55 Can I get admission in Miranda House for BA Economics hons with economics as a subject in my 12th and without math. Am I eligible Reply to Amrita Manoj a Contributor-Level 6 2 weeks ago Dear friend, you can get admission without math's also but in this case you have to lose 2.5% of your best four subject and if after this deduction you lie in the cutoff of Chandigarh University P 2020-09-27 12:36:54 I have got 95.8 % in 12th and I want to get admission under DU for bsc hons. Maths . Am I able this year 2020-21 for Miranda house as gen. Reply to Pahrisha Gupta Contributor-Level 7 9 months ago Yes, you can get into it definitely but for it, you need to wait for 2 or 3rd cutoff. Last year's first cutoff was around 96.5 percentage in this course. N 2020-07-05 17:14:02 Which Institute is good for graduation in Sciences, Miranda House, DU or LPU? Reply to Nomanjee Shivdasani G Guide-Level 15 12 months ago Hello Nomanjee, I am talking about LPU only because I have seen the things in LPU with my own eyes as per my experience in LPU as an alumni, LPU is an outstanding place to pursue your studies. I have experienced in LPU as a student and I learned plenty of things during my graduation. LPU provides...Hello Nomanjee, I am talking about LPU only because I have seen the things in LPU with my own eyes as per my experience in LPU as an alumni, LPU is an outstanding place to pursue your studies. I have experienced in LPU as a student and I learned plenty of things during my graduation. LPU provides the beautiful infrastructure and all required resources to students and staff. I will highly recommended that if you really want to make your career with good level of education then you should go for LPU. When I was seeking college for admission for my graduation, I was quite confused. But after a long comparison with all relevant facts and figures I joined LPU and now I am an alumni of LPU and Decision for LPU was best decision of my life. LPU gave me extra edge in everything. LPU is Great in teaching, placements, infrastructure or other facilities. LPU has around 2300 faculty members in the university. It has experienced, specialised and well qualified faculty members. LPU has earned many affiliations, recognition and accreditation and mark itself among the few of the top private universities. LPU has earned many affiliations, recognition and accreditation and mark itself among the few of the top private universities. Moreover the placement opportunities in LPU are much better than other private universities as it is ranked the 5th amongst the other universities for its placement records. More than 550 companies visit every year for such activities and campus-recruitment of students from LPU and this year for batch graduating in 2020, already more than 500 placement/internship drives have been conducted till January 2020 with leading industry giants (more than 90% being MNCs) such as Amazon, Tech Mahindra, ITC, Trident Group, Cognizant Technology Solutions etc. And generating more than 3000 offers just in the first half of the academic session. more Scholar-Level 17 12 months ago Hi Nomanjee, Well both are great Institutions and both are doing good work and serving education across the country. I can help you in way that I can tell you about Lovely Professional University. My opinion will help you to compare it with Miranda House, DU. # Required Infrastructure ( It doesno...Hi Nomanjee, Well both are great Institutions and both are doing good work and serving education across the country. I can help you in way that I can tell you about Lovely Professional University. My opinion will help you to compare it with Miranda House, DU. # Required Infrastructure ( It doesnot means huge buildings only). # Industry based Curriculum. # Research and Numerous patents for LPU. # Technical certifications within the course fee. Results of versatile Industrial tie-ups. # Highly qualified and experienced faculty. # Diversity in the Campus. Students from all the states and UTs along with International students from 70 countries are on the campus. This would lead to the world class exposure. # Holistic and Inclusive growth is expected, when you are studying at LPU. #Support SEED capital investments for the new startups of young coming Entrepreneurs. # Best infrastructure for witnessing and practising Sports and Cultural activities/events. # One of the biggest Libraries of the India is present on LPU campus. # Remarkable placement record. I am well aware of these features of LPU which can flourish the career of prospective students. All the best for your future. more R 2019-12-26 01:12:21 If I have got 85% in 12 but 95% in math then can I get admission in B.Sc. Hons in math in Miranda house. Reply to Raaz Mohanta Scholar-Level 18 a year ago The last year's 2019-20 cutoff for B.Sc. Hons Mathematics in general category at Miranda House Delhi was 96.5. 100% of weightage is given to PCM marks if theory and practical components are in 70% and 30% ratio. Hence yours chances are very less. P 2019-11-12 09:27:38 If I get above 80% and 90% in 12th exam,would I be able to get admission in DU? Reply to Paulami  Datta Guide-Level 15 a year ago They conduct an entrance exam for admission. So, you have to appear in that for admission. A Guide-Level 14 a year ago Hello,Yes, you are eligible to apply for an admission in DU by scoring more than 80 percentage. T 2019-08-17 21:09:38 Does miranda house have fashion communication? Reply to Tareen Husain Guide-Level 12 a year ago No, there is no such course for fashion communication in Miranda House. Get our experts to answer your questions within 24 Hrs Trade Marks belong to the respective owners. Copyright © 2021 Info edge India Ltd. All rights reserved. We use cookies to improve your experience. By continuing to browse the site, you agree to our Privacy Policy and Cookie Policy.\""
            ]
          },
          "metadata": {
            "tags": []
          },
          "execution_count": 15
        }
      ]
    },
    {
      "cell_type": "code",
      "metadata": {
        "colab": {
          "base_uri": "https://localhost:8080/"
        },
        "id": "C4VXLYxyuKvE",
        "outputId": "c51acc4f-71ef-49d4-8c61-a1ab1881ed5c"
      },
      "source": [
        "# Getting college name lists\n",
        "college_name_list = []\n",
        "for i in tr_list:\n",
        "  college_name_list.append(i[0])\n",
        "college_name_list"
      ],
      "execution_count": null,
      "outputs": [
        {
          "output_type": "execute_result",
          "data": {
            "text/plain": [
              "['Miranda House ',\n",
              " 'Lady Shri Ram College for Women ',\n",
              " 'Hindu College ',\n",
              " 'St Stephen’s College ',\n",
              " 'Presidency College ',\n",
              " 'Loyola College ',\n",
              " 'St Xavier’s College ',\n",
              " 'Ramakrishna Mission Vidyamandira ',\n",
              " 'Hansraj College ',\n",
              " 'PSGR Krishnammal College for Women ']"
            ]
          },
          "metadata": {
            "tags": []
          },
          "execution_count": 16
        }
      ]
    },
    {
      "cell_type": "code",
      "metadata": {
        "id": "Itq-Kz-8DJcF"
      },
      "source": [
        "cols = ['College Name', 'College Web Link', 'Web Page Content']"
      ],
      "execution_count": null,
      "outputs": []
    },
    {
      "cell_type": "code",
      "metadata": {
        "colab": {
          "base_uri": "https://localhost:8080/"
        },
        "id": "eY-PJnrd-bb6",
        "outputId": "0358f4e2-1d15-408b-ff58-0983f950e7da"
      },
      "source": [
        "rows = []\n",
        "for i in range(10):\n",
        "  temp_list = [college_name_list[i], url_list[i], college_web_content[i]]\n",
        "  rows.append(temp_list)\n",
        "rows"
      ],
      "execution_count": null,
      "outputs": [
        {
          "output_type": "execute_result",
          "data": {
            "text/plain": [
              "[['Miranda House ',\n",
              "  'https://www.shiksha.com/college/miranda-house-north-campus-delhi-3090',\n",
              "  \"Ranked 2 for Science  by India Today 2021  +3 more Updated on Jun 12, 2021 Founded in 1948, Miranda House is one of the oldest and premier women's institutions under the University of Delhi. The college was founded by Lady Edwina Mountbatten to promote higher education for women. The college boasts of its teaching departments. Its Humanities and Social Sciences section comes with 13 departments which are considered best amongst the rest of the colleges of the University. Jun 24, 2021: Top 10 BSc, MSc colleges in India The college caters to over 3000 students and offers education in sciences and liberal arts. It has ranked as the best college across the nation by NIRF rankings in 2019. The college offers admission on the basis of merit decided by the cut-off lists issued by Delhi University. For the detailed adm The college caters to over 3000 students and offers education in sciences and liberal arts. It has ranked as the best college across the nation by NIRF rankings in 2019. The college offers admission on the basis of merit decided by the cut-off lists issued by Delhi University. For the detailed admission process, Click Here The college maintains a placement cell that operates the activities of career counselling and campus recruitment. The college is visited by a plethora of companies and budding employers to recruit students every year. The college has a great reputation and a good number of students got placement yearly. Some of the known recruiters include Indian Express, Google, Star India, Oxford University Press, Standard Chartered Bank, Essar Group, Zee Telefilm Limited, Pricewaterhouse Coopers, Deloitte, Ernst&Young, Max New York Life Insurance Company Blackstone Group, Absolutdata Research and Analytics Pvt. Ltd., Jaypee Group, Thomsondigital, IBM Daksh Business Process Services Pvt. Ltd., Team Lease Services Pvt. Ltd., Wipro BPO, HP Ltd., Star News, Pulse Media Pvt. and many more. For more information about placements, Click Here As the college is a constituent of Delhi University, students can apply for several scholarships made for meritorious and financially needy students. Some of the scholarships for undergraduate programmes are: They can also apply for other scholarships including State Government Scholarships and Scholarships for Reserved Category. To view, the latest reviews Click Here Distribution of Rating Placements: The course B.A. Political Science Hons is a very helpful course to gain better knowledge related to politics and administration. I don't know about placements yet, as I've not been to college due to the corona pandemic, and I am in 1st year only. Infrastructure: I haven't been to college yet due to Covid-19, so I'm unable to describe the facilities and infrastructure of the college. Neither do I know about the hostel nor about the food available in the mess and canteen. I lack knowledge about the sports and game... Placements: Our college has a very active placement cell. Students interested in getting a job after their 3 years of the course can work hard, and they should be a part of the placement cell. Students can get placed as data analysts in various reputed companies like Google, Microsoft and others. Infrastructure: The infrastructure is amazing, and there are water coolers, Xerox shop and canteen. The campus is lush green, which creates positive vibes. It has also been a shooting location for several movies such as Raazi, Fukr... Placements: All students got placed, and some got a masters degree from well-known institutions. Companies like Times of India and EY hire students from our institution. There is complete help in terms of resume making and discussing further career goals. Infrastructure: The campus has multiple cafeterias which are offering a variety of affordable and delicious meals. The overall infrastructure is good and serene with a lot of greenery. The campus always has some engaging events for students, and there is freedom for art en... Placements: Our course was a theoretical-oriented arts course, so we did not have any placements. Students of most of the courses are required to pursue a masters degree in order to get a good job. However, the economics department and some science courses have placements, but I have heard from my friends that placements were not very successful. Infrastructure: Our college had everything like Wi-Fi facility, labs, beautiful lawns, three eateries and classrooms with proper wooden furniture and projectors. The infrastructure... Placements: Companies from management and marketing, IT, sales and communication domain visit our college to offer placements. I have been offered an internship in my second year in a hospitality organisation which helped me to develop my personality. It also offered me a job opportunity later. Infrastructure: The canteen, sports, Wi-Fi facility, library, classrooms, labs and everything was available on the campus. SAC was also available for students activities. There is a vast ground for sports and also a gymnasium area. T... Placements: Our college provides great options for placements. The placement committee of the college invites many known and flourishing companies like Wipro, Decathlon, Stanza, etc. Companies select students after conducting seminars and interviews. The committee also ensures part-time jobs. Internships are readily available for the students interested. Infrastructure: The infrastructure of the college is beautiful and consists of well- ventilated classrooms, and a library with a special corner to blind students, the libra... Placements: The Placement Cell in our college is really active and they organise meetings with companies for third years who are interested. I'm not too sure about the opportunities for pure humanities students, but economics hons students do get placement options. Infrastructure: The college campus is exceptional. There's a basketball court, outdoor gym, tennis court and a couple of lawns for arts societies to practice. Classrooms are big so it doesn't feel suffocated. Miranda has one of the most beautiful college campus. Placements: The placement cell of our college is amazing, and it has been able to invite a lot of reputed companies for placements, which include McKinsey, Accenture, etc. Internship opportunities are also great, and companies in which students get internships are GlobalShala, Blitz Jobs, etc. Infrastructure: The infrastructure of our college is amazing, and our college also includes ramps and elevators for disabled students. There is also an excellent library, which has thousands of books ranging from different courses. Ho... Miranda House, affiliated with DU, will consider UG admission 2021 based on the merit of Class 12 this year, as declared by DU's VC. However, due to the ongoing pandemic, there are speculations about changes in the DU admission process 2021. Any changes made to Miranda House admission process 2021 will be published here as soon as they are released by the University. Latest Update Miranda House admission usually starts in the mid of May (after the declaration of Class 12 results). However, it is delayed for the 2021-22 session (similar to 2020 admission) due to Covid-19. The college offers UG, PG and certificate courses in the field of Arts, Science, Education and Commerce and is mostly popular for its Science programmes. DFP-Banner Miranda House admis Institute accepts various scholarships :\\nFor details refer to the link below : \\nhttp://mirandahouse.ac.in/studentlife/awardscholarships.php# Miranda House along with other DU constituent colleges released its first, second, third, fourth, fifth, sixth and seventh cutoff lists for UG admission on October 10, 17, 24, 31, November 7, 28 and December 5, respectively. BA (H) Economics with 97.50% turned out to be the course with the highest seventh cutoff 2020 in the General category. Candidates, who wish to apply for Miranda House admission, can check the cut off details mentioned on this page. Also, keep checking this page for the next cut off lists that are yet to be announced by Delhi University. Latest Updates Miranda House seventh cut off 2020 was released on December 5, 2020. The document verification under this list will take place between December 7 and 9 and the last date of fee payment under this round Tempest, the annual cultural festival of Miranda House is a multi-day event w...Tempest, the annual cultural festival of Miranda House is a multi-day event which includes dance and singing competitions, ad mad show, quiz, debates, fashion show, face painting, nukkad natak, star night etc.more M 2019-06-17 17:51:15 Is maths compulsory for ba hons economics in +2. Reply to Megha Goswami Beginner-Level 4 2 years ago Yes, to pursue BA (Hons) Economics from any college of DU, maths is a compulsory subject. Scholar-Level 16 2 years ago No maths is not compulsory for BA economics honors but you should have economics as a subject. S 2021-05-18 09:35:20 I got 69.6% in 12th board exam. Can I get admission in DU Miranda house. Reply to Surbhi bala a Contributor-Level 6 a week ago He/ she must score minimum 50% marks (45% for SC/ ST) in the qualifying exam to be eligible for examination. Mandatory Subject: Candidates must have Physics &amp; Chemistry as their mandatory subject along with any one from Chemistry/ Bio-technology/ Computer Science/ Biology in their qualify...He/ she must score minimum 50% marks (45% for SC/ ST) in the qualifying exam to be eligible for examination. Mandatory Subject: Candidates must have Physics &amp; Chemistry as their mandatory subject along with any one from Chemistry/ Bio-technology/ Computer Science/ Biology in their qualifying exam.more A 2021-06-22 10:25:55 Can I get admission in Miranda House for BA Economics hons with economics as a subject in my 12th and without math. Am I eligible Reply to Amrita Manoj a Contributor-Level 6 2 weeks ago Dear friend, you can get admission without math's also but in this case you have to lose 2.5% of your best four subject and if after this deduction you lie in the cutoff of Chandigarh University P 2020-09-27 12:36:54 I have got 95.8 % in 12th and I want to get admission under DU for bsc hons. Maths . Am I able this year 2020-21 for Miranda house as gen. Reply to Pahrisha Gupta Contributor-Level 7 9 months ago Yes, you can get into it definitely but for it, you need to wait for 2 or 3rd cutoff. Last year's first cutoff was around 96.5 percentage in this course. N 2020-07-05 17:14:02 Which Institute is good for graduation in Sciences, Miranda House, DU or LPU? Reply to Nomanjee Shivdasani G Guide-Level 15 12 months ago Hello Nomanjee, I am talking about LPU only because I have seen the things in LPU with my own eyes as per my experience in LPU as an alumni, LPU is an outstanding place to pursue your studies. I have experienced in LPU as a student and I learned plenty of things during my graduation. LPU provides...Hello Nomanjee, I am talking about LPU only because I have seen the things in LPU with my own eyes as per my experience in LPU as an alumni, LPU is an outstanding place to pursue your studies. I have experienced in LPU as a student and I learned plenty of things during my graduation. LPU provides the beautiful infrastructure and all required resources to students and staff. I will highly recommended that if you really want to make your career with good level of education then you should go for LPU. When I was seeking college for admission for my graduation, I was quite confused. But after a long comparison with all relevant facts and figures I joined LPU and now I am an alumni of LPU and Decision for LPU was best decision of my life. LPU gave me extra edge in everything. LPU is Great in teaching, placements, infrastructure or other facilities. LPU has around 2300 faculty members in the university. It has experienced, specialised and well qualified faculty members. LPU has earned many affiliations, recognition and accreditation and mark itself among the few of the top private universities. LPU has earned many affiliations, recognition and accreditation and mark itself among the few of the top private universities. Moreover the placement opportunities in LPU are much better than other private universities as it is ranked the 5th amongst the other universities for its placement records. More than 550 companies visit every year for such activities and campus-recruitment of students from LPU and this year for batch graduating in 2020, already more than 500 placement/internship drives have been conducted till January 2020 with leading industry giants (more than 90% being MNCs) such as Amazon, Tech Mahindra, ITC, Trident Group, Cognizant Technology Solutions etc. And generating more than 3000 offers just in the first half of the academic session. more Scholar-Level 17 12 months ago Hi Nomanjee, Well both are great Institutions and both are doing good work and serving education across the country. I can help you in way that I can tell you about Lovely Professional University. My opinion will help you to compare it with Miranda House, DU. # Required Infrastructure ( It doesno...Hi Nomanjee, Well both are great Institutions and both are doing good work and serving education across the country. I can help you in way that I can tell you about Lovely Professional University. My opinion will help you to compare it with Miranda House, DU. # Required Infrastructure ( It doesnot means huge buildings only). # Industry based Curriculum. # Research and Numerous patents for LPU. # Technical certifications within the course fee. Results of versatile Industrial tie-ups. # Highly qualified and experienced faculty. # Diversity in the Campus. Students from all the states and UTs along with International students from 70 countries are on the campus. This would lead to the world class exposure. # Holistic and Inclusive growth is expected, when you are studying at LPU. #Support SEED capital investments for the new startups of young coming Entrepreneurs. # Best infrastructure for witnessing and practising Sports and Cultural activities/events. # One of the biggest Libraries of the India is present on LPU campus. # Remarkable placement record. I am well aware of these features of LPU which can flourish the career of prospective students. All the best for your future. more R 2019-12-26 01:12:21 If I have got 85% in 12 but 95% in math then can I get admission in B.Sc. Hons in math in Miranda house. Reply to Raaz Mohanta Scholar-Level 18 a year ago The last year's 2019-20 cutoff for B.Sc. Hons Mathematics in general category at Miranda House Delhi was 96.5. 100% of weightage is given to PCM marks if theory and practical components are in 70% and 30% ratio. Hence yours chances are very less. P 2019-11-12 09:27:38 If I get above 80% and 90% in 12th exam,would I be able to get admission in DU? Reply to Paulami  Datta Guide-Level 15 a year ago They conduct an entrance exam for admission. So, you have to appear in that for admission. A Guide-Level 14 a year ago Hello,Yes, you are eligible to apply for an admission in DU by scoring more than 80 percentage. T 2019-08-17 21:09:38 Does miranda house have fashion communication? Reply to Tareen Husain Guide-Level 12 a year ago No, there is no such course for fashion communication in Miranda House. Get our experts to answer your questions within 24 Hrs Trade Marks belong to the respective owners. Copyright © 2021 Info edge India Ltd. All rights reserved. We use cookies to improve your experience. By continuing to browse the site, you agree to our Privacy Policy and Cookie Policy.\"],\n",
              " ['Lady Shri Ram College for Women ',\n",
              "  'https://www.shiksha.com/college/lady-shri-ram-college-for-women-lajpat-nagar-delhi-23895',\n",
              "  'Ranked 3 for Commerce  by India Today 2021  +4 more Updated on Jul 5, 2021 Lady Shri Ram College for Women University of Delhi (also known as LSR College for Women) is an all-women college affiliated to\\xa0Delhi University. It was established in 1956 by the Late Sir Lala Shri Ram in New Delhi. The campus is located in Lajpat Nagar, South Delhi and is recognised by the Ministry of Human Resource Development (MHRD). LSR College has been\\xa0ranked 2\\xa0in NIRF 2020 under the \\'College\\' category, 3 and 4 by India Today Ranking 2021 under \\'Commerce\\' and \\'Arts\\' categories, respectively. The National Assessment and Accreditation Council (NAAC) has accredited the college with an \"A\" Grade and a 3.61 CGPA. A total of 25 courses are offered by LSR, including all UG, PG and specialisation courses. Jul 5, 2021: Top 10 Commerce Colleges with Best Placements 2021 - India Today Rankings Jun 30, 2021: Top 10 Commerce Colleges in India 2021 - India Today Rankings Latest Updates LSR College for Women BA programme is one of its most-known courses and offers students a very tough competition for seats. The college offers BA in 12 specialisations including English, Economics, Journalism, History, Maths, Philosophy, Hindi, Political Science and Sanskrit among others. The faculty-student ratio at LSR is about 1:15 with an average class size of 40 students. Lady Shri Ram College has over 20+ extracurricular societies (ECA) for quiz, painting, dance, singing, debate, etc. The college celebrates its annual cultural fest known as\\xa0TARANG\\xa0which is quite popular among all the students of not only DU but other prestigious colleges as well. The college provides international exposure to students as well in the form of exchange programmes and short-term courses. It includes programmes such as BCom (Hons), BA (Hons), BA (Prog), BSc (Hons), MA and MCom programmes. Additionally, LSR College for Women also offers professional programmes in Journalism, Elementary Education (B.El.Ed), Post-graduate Diploma Programme in Conflict and Transformation and Peacebuilding. The libr Latest Updates LSR College for Women BA programme is one of its most-known courses and offers students a very tough competition for seats. The college offers BA in 12 specialisations including English, Economics, Journalism, History, Maths, Philosophy, Hindi, Political Science and Sanskrit among others. The faculty-student ratio at LSR is about 1:15 with an average class size of 40 students. Lady Shri Ram College has over 20+ extracurricular societies (ECA) for quiz, painting, dance, singing, debate, etc. The college celebrates its annual cultural fest known as\\xa0TARANG\\xa0which is quite popular among all the students of not only DU but other prestigious colleges as well. The college provides international exposure to students as well in the form of exchange programmes and short-term courses. It includes programmes such as BCom (Hons), BA (Hons), BA (Prog), BSc (Hons), MA and MCom programmes. Additionally, LSR College for Women also offers professional programmes in Journalism, Elementary Education (B.El.Ed), Post-graduate Diploma Programme in Conflict and Transformation and Peacebuilding. The library is well-equipped and e-linked to provide access to data all over the world. LSR also has a research centre for students with disabilities so that they get equal opportunities to learn. It also provides hostel facilities for some students. Below mentioned are the important highlights of Lady Shri Ram College for Women, University of Delhi: Establishment year 1956 Also known as LSR College for Women Location Lajpat Nagar, South Delhi Campus size 15 acre Affiliation University of Delhi Approval UGC, MHRD Recognition NAAC Ranking - 3 (India Today 2021- Commerce) - 4 (India Today 2021- Arts) - 2 (NIRF 2020- College) Entrance exams accepted DUET Number of courses 25 courses in 5 streams Average placement package Rs 9.4 LPA (2020) Popular recruiters Mckinsey & Company, BCG, Bloomberg Mode of education Full-time Mode of application Online Official website www.lsr.edu.in Information Brochure Download here Lady Shri Ram College for Women admission process 2021 is conducted in online mode. The process includes filling in the application form and waiting for the release of the cut-offs. After which, eligible students are required to visit the official website of DU and apply for the college and course of interest.\\xa0The undergraduate students seeking admission to Lady Shri Ram College for Women must register online on the official website of the University of Delhi. On the declaration of DU cutoff list 2021, applicants can apply online by logging into the same account and choosing the course and college in which they have qualified for the cut-off marks. For sports quota admission, candidates must visit the LSR campus for the sports category trials and verify all the respective documents. Below mentioned is the table of the admission process for all courses offered by Lady Shri Ram College for Women, Delhi: BA (Hons) Merit-based, DUET 670 BA (Prog) Merit-based 78 BSc (Hons) Merit-based 97 BCom (Hons) Merit-based 68 B.El.Ed DUET 63 MA Merit-based,\\xa0DUET 94 For Lady Shri Ram College for Women University of Delhi admission, aspirants must apply on the official website of DU. Below mentioned is the LSR College admission process 2021 (for UG courses): Read more: Lady Shri Ram College for Women Admission 2021 The popular courses offered by Lady Shri Ram College for Women are in the fields of Economics, English, Political Science, Psychology, Elementary Education and Commerce among others. It offers a total of 25 courses to its students at both undergraduate and postgraduate levels. Besides these, a few other short-term programmes are offered by the college as well. All these courses offered to undergraduates are for a duration of three years; the courses for postgraduates are for a span of two years. LSR College also provides a diploma for a period of one year namely Conflict Transformation and Peacebuilding.\\xa0A two-month internship is part of this course. The student exchange programme is also available where international students attend the campus of LSR College and the college’s students visiting foreign universities as part of their course work. The partnered universities are from the USA, Singapore, Australia and parts of Europe. Below mentioned is the table of highlights for all the courses offered by Lady Shri Ram College, Delhi University: BA (Hons) Class 12 with a minimum 45% aggregate Rs 15,370 BA (Prog) Class 12 with a minimum 40% aggregate Rs 15,370 \\xa0Rs 19,870 BSc (Hons) Class 12 with a minimum 45% aggregate Rs 19,870 - Rs 20,170 BCom (Hons) Class 12 with a minimum 45% aggregate Rs 19,870 B.El.Ed Class 12 with a minimum 40% aggregate Rs 17,720 MA Candidates must have passed BA Rs 16,456 Read more:\\xa0LSR College for Women Courses Delhi University cutoff 2021\\xa0for Lady Shri Ram College will be available here once out. Lady Shri Ram College for Women cutoff 2021 indicates the minimum percentage marks needed to take admission to a course in the college. As per the LSR College first cutoff 2020, BA (Hons) Psychology and BA (Hons) Political Science with 100% turned out to be the courses with the highest cutoff in any of the colleges of Delhi University. Read more:\\xa0LSR College for Women Cutoff 2020 Lady Shri Ram College offers placements as well as internship opportunities to its students. Besides this, the Placement Cell also organises workshops and seminars for all students. Over 100 companies visit LSR campus last year and more than 110 students. The most frequent visiting recruiters that offered full-time roles to the students include McKinsey, BCG, Bloomberg, Bain & Company, LEK Consulting, EY Parthenon and KPMG among others. Also, companies such as Bank of America, JSW, Citibank, HUL, Puma, etc. visit the campus for internship-related recruitments. The roles offered by these companies vary from Consultancy, Banking and Financial Services, Human Resources, Financial Research and Content Writing. Below-mentioned is the salary trends of LSR placements 2020 vs LSR placements 2019: Year Highest Package Average Package 2019 Rs 37.8 LPA Rs 7.5 LPA 2020 Rs 30 LPA Rs 9.4 LPA Read more:\\xa0Lady Shri Ram College Placements Scholarships, as well as freeships, are offered by Lady Shri Ram College in abundance to the students based on merit in the last qualifying examination. Some of these cover the entire tuition fee, and freeships are offered based on the financial needs of the students which again cover the entire tuition fee of the students. A few of the LSR College scholarships are: In the year 2018-19, a total of 103 scholarships and 254 freeships were given by LSR College which summed up to Rs 4.3 lakh and Rs 30 lakh, respectively. Read more:\\xa0Lady Shri Ram College for Women Scholarships LSR College for Women Admission 2021 LSR Information Brochure 2021 Distribution of Rating Placements: I am currently pursuing a course of bachelor of elementary education in Lady Shri Ram College for Women, Delhi University, or LSR. The placements in our college are quite good. Many schools also visit our campus for recruitment. Moreover, private schools also offer placements here. Infrastructure: The infrastructure of our college is very good, and the facilities are quite good here. There is a library facility, where books available are very knowledge-oriented and are very helpful. The environment in Lady Shri ... Placements: The placement opportunities is good too. My suggestion would be do as much as you can to boost your C. V. plus the packages offered is also based on the performances in the college. The roles offered will be mainly of research, diplomacy, political assistance in the companies etc. Infrastructure: The hostel is worth the money, the benefit of being a hostel resident is that of having a safe company of your friends always so as to help you whenever you\\'re in need. Talking about the food provided, it is satisfacto... Placements: 3/4th batch were placed in my course. The highest package was 29 Lacs, the lowest was 4.5lakhs. Top recruiting companies were-KPMG, EY, Deloitte, Brain, Citi, BCG.\\nConsultant, Business Analyst, Risk Analyst, Content Writer, Sales and marketing, Human Resource Executive roles were offered. Infrastructure: All the facilities are of great quality. Hostel has 3 types of rooms- triple sharing, twin sharing and an individual room. You have all the facilities in hostel. Mess food is amazing. Canteen has everything you ... Placements: The average package for LSR students tends to be over 5 Lacs p.a. , with some of the top recruiters offering over 15 Lacs p.a. as well. The placement process is relatively streamlined and is easy to enroll yourself into. Some of the top recruiting companies, especially ones that aren\\'t looking for specific course requirements, are McKenzie, Bane, Accenture. Some that are specifically looking for Eng (H) and related courses are Publicizes etc. The placement cell also provides a myriad of internsh... Placements: The placements for the B.Com (Hons) course is very good. Any student who wish to do an internship can easily do it. The internships opportunities are abundant. Some of companies for placements are Bloomberg and Boston Consultancy Group etc. Internships of Deloitte, EY, Dell can be grabed. Infrastructure: The infrastructure is extremely beautiful. The hostel though not available for everyone serves the students the best food and facilities at a reasonable price. The Library, Labs and sports complex are good. The... Placements: There are almost 120 students in our course which is divided into two sections. The placements are really good. For each course, google groups are made through which all the essential information about the placements is circulated. All kinds of placements are given i.e virtual, part-time and full time. Some give stipend some not. But all are well-reputed and good companies. Infrastructure: The facilities given are quite satisfactory. The Wi-Fi system is good and secured. Different rooms for different purposes ar... Placements: It is a good college in placement with an average placement of 90% of students on a package of average 4 to 5 Lacs. All 10 percent remaining students are pursuing their internships in different corporate sectors with good stipend by the companies and placed in cities like Delhi, Gurgaon, etc. Infrastructure: The infrastructure is good of the college and as it comes under Delhi University every facility is available in there. There are big sports grounds, canteen provides hygienic food, library is perfect, medic... Placements: We have pretty good placement offers and internship opportunities for all courses. Packages differ for students and as far as I know, more than 80 percent of the students who wish to do internship are granted one. Same with placements too. Options are pretty great! Infrastructure: We don\\'t have some important books of our course in the Library. Hostel is the best thing with all necessary facilities but number if hostel seats can be increased especially in a college like LSR. Rest all are nice. Lady Shri Ram College, a constituent college of\\xa0University of Delhi, considers UG admission based on the merit of Class 12, as per the DU officials. Also, due to the ongoing Covid-19 pandemic, the DU admission process has been delayed this year. Applications for UG programmes will be invited from July 15\\xa0onwards. Any changes made to LSR College for Women admission process 2021 will be published here as soon as they are released by the University. Latest Update July 1, 2021:\\xa0DU registrations for entrance-based PG courses likely to begin from the third week of July, says Rajeev Gupta (Chairman of DU). Lady Shri Ram College, University of Delhi\\xa0offers degree and diploma programmes to aspirants at the undergraduate and postgraduate levels. It includes programmes such as BCom (Hons), BA (Hons), BA (Prog), BSc (Hons), MA and MCom programmes. Additionally, LSR College for Women also offers professional programmes in Journalism, Eleme The scholarships given to students include the Ward Welfare scholarship, KPMG Scholarship, G.L. Bansal Scholarship, ELSA Scholarship, Shri Onkar Nath Pandit Scholarship and Shri Manohar Shyam Joshi Scholarship among several others.\\nFor more info kindly visit : https://lsr.edu.in/students/scholarships-and-free-ships/ Lady Shri Ram College along with other DU constituent colleges released its first, second, third, fourth, fifth, sixth and seventh cutoff lists for UG admission on October 10, 17, 24, 31, November 7, 28 and December 5, respectively. BA (H) Psychology with 98.75% turned out to be the course with the highest seventh cutoff 2020 in the General category. Candidates, who wish to apply for Lady Shri Ram College admission, can check the cut off details mentioned on this page. Also, keep checking this page for the next cut off lists that are yet to be announced by Delhi University. Latest Updates Lady Shri Ram College seventh cut off 2020 was released on December 5, 2020. The document verification under this list will take place between December 7 and 9 and the last dat Tarang is the annual cultural festival of Lady Shri Ram College held every ye...Tarang is the annual cultural festival of Lady Shri Ram College held every year, it is one of the most eagerly awaited festivals of Delhi University. Tarang is known for bringing together the best student talent from across the country in fields of music, dance, dramatics, debating, fine arts, quiz, films, photography and other areas of art and culture.\\n\\nThe college also incorporates a Mini-Education Fest within Tarang as well as a host of new informal events such as The Treasure Hunt, Street Dance, Dramarama, Confessions of a tattoo, etc to provide more variety and cater to the interests of one and all.more Nostalgia is organized during February/ March each year, as a grand homecomin...Nostalgia is organized during February/ March each year, as a grand homecoming for the Alumnae. It is an occasion for them to meet each other once again and relive the magic of LSR. The highlights of the day and most enjoyed events include quizzes conducted by focusing on the life of the college, present as well as past, taking the audience back once again to their times at LSR. In addition, musical groups are organized by alumnae.more Q. What is the ranking of Lady Shri Ram College for Women? A. LSR College has been\\xa0ranked 2\\xa0in NIRF 2020 under the \\'College\\' category, 3 and 4 by India Today Ranking 2021 under \\'Commerce\\' and \\'Arts\\' categories, respectively. Q. Is there a separate form for getting admission to Lady Shri Ram College for Women? A. A separate application is not required for admission to any programme at Lady Shri Ram College, University of Delhi. Only online registration to the Delhi University registration portal is necessary. Q. Which courses are offered at Lady Shri Ram College for Women? A. LSR College offers programmes such as BCom (Hons), BA (Hons), BA (Prog), BSc (Hons), MA and MCom programmes. Also, the college offers professional programmes in Journalism, Elementary Education (B.El.Ed), Post-graduate Diploma Programme in Conflict and Transformation and Peacebuilding. Q. What is the fee to pursue BSc (Hons) at LSR College DU? A. The first-year fee to pursue BCom (Hons) at LSR College for Women is Rs 19,870. Q. Does LSR College for Women DU provide admission to students under the Sports category? A. Yes, admission is given under sports category and auditions are taken post shortlisting of the candidates in the campus of LSR College for Women. Q. What kind of accommodation is available for the students at LSR College for Women? A. Only first-year students have the provision to stay in the Residence Hall, available on-campus, or they can stay off-campus by themselves. Students, who have the Domicile of Delhi, are not permitted to stay in Residence Halls. Q. Which top streams is Lady Shri Ram College for Women known for? A. The most popular streams at LSR are Journalism, Psychology, Commerce and Elementary Education. Q. What kind of extracurricular activities are offered to the students of LSR College for Women? A. There are various department associations, cultural fests, sports events and outreach programmes along with research work provided to the students to enhance their inter and intra-personal skills. Q. Which companies visit the campus of LSR College DU for the placements? A. The most frequent recruiters include McKinsey & Company, Bain & Company, Boston Consulting Group, Deloitte, Citi Bank, etc. Q. What is the highest package received by students of LSR College for Women? A. In the placement season of 2019-20, the highest package offered was Rs 30 LPA. Q. What facilities are available for the students at Lady Shri Ram College for Women? A. The facilities available are a library, bookstore, computer and statistics labs, medical room, cafe, sports facilities, etc. S 2021-04-16 17:26:06 I want to study B.A ( Hons) economics after class 12. I have not taken math in class 12  but i can take maths in graduation. is it possible Reply to Shraddha a Contributor-Level 6 6 days ago Without mathematics, you will not be eligible to get admission in bachelor\\'s degree in Economics in any top universities like Delhi University or others. All colleges like Hindu College, Ramjas College, Shri Ram College of Commerce etc admit candidates who have taken mathematics as compulsory sub...Without mathematics, you will not be eligible to get admission in bachelor\\'s degree in Economics in any top universities like Delhi University or others. All colleges like Hindu College, Ramjas College, Shri Ram College of Commerce etc admit candidates who have taken mathematics as compulsory subject in 10+2.more S 2021-04-16 17:27:23 it direct admission is possible in lady shri ram college? Reply to Shraddha a Contributor-Level 6 6 days ago It is one of the most competitive exams conducted at the national level which is taken by more than 60,000 applicants every year. Meanwhile, this makes it imperative to prepare for the exam in the smartest way possible. With only 2-3 months in hand for CUCET 2021, having only the right material t...It is one of the most competitive exams conducted at the national level which is taken by more than 60,000 applicants every year. Meanwhile, this makes it imperative to prepare for the exam in the smartest way possible. With only 2-3 months in hand for CUCET 2021, having only the right material to study is not enough.more T 2021-07-04 13:32:36 I HAVE GOT 458 MARKS IN Inter Andhra Pradesh State Board out of 470 marks. I belong to BCD Category. I am a woman can i get Seat in BA in Reply to T M A Niveditha a Contributor-Level 6 Yesterday With 200 marks, it is highly difficult for you to get admission in any of the private colleges. If you even get the fee would be really high in order to join MBBS course. With 200 marks, it is highly difficult for you to get admission in any of the private colleges M 2021-05-23 17:38:40 I\\'m presently in class 12. I want to study psychology but I need to maths for it for admission in Lsr? I haven\\'t taken up maths in 12. Reply to Manjima  Biswas a Contributor-Level 6 a week ago No you don\\'t need to have maths in 12th for studying psychology. It does have Statistics as a portion because researches are done in psychology and to evaluate them, behavioural statistics is needed. S 2021-06-19 21:03:36 Due to this Covid ,our 12th exams got canceled. The marks will be based on my 1st Year Inter Marks. I scored 443/500. can i get into LSR? Reply to Sohana Reddy a Contributor-Level 6 2 weeks ago Yes, U can easily get admission in Chandigarh University, it is one of the top ranked universities in Asia, which is UGC approved even scored a+ in NAAC accreditation. with highest placement rate. s 2021-06-29 11:38:52 I have completed +2 from nios board with 60% can i got admission in lsr college Reply to shivani pal a Contributor-Level 6 a week ago Yes, it is a private university and you can apply for admission in Chandigarh University. To get admission in college you will need to give CUSAT 2018 examination conducted by the university itself S 2021-06-25 22:25:03 How apply for lsr university Reply to Sushma a Contributor-Level 6 a week ago Candidates can either apply online through the official website of CU (www.cuchd.in) or may download the Chandigarh University application form through the official website and send it to the admission office. The application fee for all the programmes is Rs 1,000. m 2020-10-08 05:54:02 Can i get admission after 12th  cbse PCB 78% only Reply to moti lal Contributor-Level 7 9 months ago With that much of percentage it seems very difficult to get into this college if you belong to general category.If you belong to SC/ST then you can have some chances.Further you wants to do BA thhen you will face some percentage deduction Due to stream change.College doesn\\'t matter alot. Main thi...With that much of percentage it seems very difficult to get into this college if you belong to general category.If you belong to SC/ST then you can have some chances.Further you wants to do BA thhen you will face some percentage deduction Due to stream change.College doesn\\'t matter alot. Main thing is to study from DU.Try some other colleges .more Get our experts to answer your questions within 24 Hrs Trade Marks belong to the respective owners. Copyright © 2021 Info edge India Ltd. All rights reserved. We use cookies to improve your experience. By continuing to browse the site, you agree to our Privacy Policy and Cookie Policy.'],\n",
              " ['Hindu College ',\n",
              "  'https://www.shiksha.com/college/the-hindu-college-guntur-21399',\n",
              "  \"Updated on Sep 5, 2014 Jun 30, 2021: Top 10 Commerce Colleges in India 2021 - India Today Rankings Go to website... http://www.hcg.ac.in/ M 2020-02-29 22:18:19 How is the Hindu College? Reply to Mahima Aggarwal S Guide-Level 15 a year ago One of the best collegeHindu college is one of the elite college (in terms of education) in Delhi. It's faculty is very intellectual and is very helpful. The college is packed with the finest teachers. Academically, Hindu is the best. A 2019-06-25 17:52:07 I got 16746 rank in icet can I get seat in your college Reply to A. N K Scholar-Level 16 a year ago Hello,Check this college predictor by Shiksha. By this predictor you may get predicted information about in which college chances of your admission are high. https://www.shiksha.com/b-tech/resources/ap-eamcet-college-predictorBest of luck. V 2018-07-22 23:57:05 I want to take admission in The Hindu College for French course. How can I apply? I got 87.2 marks in 12th. Reply to Vikas viswakarma G Guide-Level 14 2 years ago Sorry to say but The Hindu College does not offer French course. G 2017-04-03 15:51:18 Can I get admission in the Hindu College or Hansraj college for commerce courses with sports quota? Reply to Gauri Jadon J Contributor-Level 9 4 years ago Hi Gauri,For admission related information, please visit the official website of these colleges. You can also visit: https://www.shiksha.com/college/hindu-college-north-campus-delhi-23907 and https://www.shiksha.com/college/hans-raj-college-kamla-nagar-delhi-3062Good luck. Get our experts to answer your questions within 24 Hrs Trade Marks belong to the respective owners. Copyright © 2021 Info edge India Ltd. All rights reserved. We use cookies to improve your experience. By continuing to browse the site, you agree to our Privacy Policy and Cookie Policy.\"],\n",
              " ['St Stephen’s College ',\n",
              "  'https://www.shiksha.com/college/st-stephen-s-college-north-campus-delhi-23933',\n",
              "  \"Page not found. Sorry, the page you were looking for doesn't exist or has been moved. We're working on it Get our experts to answer your questions within 24 Hrs Trade Marks belong to the respective owners. Copyright © 2021 Info edge India Ltd. All rights reserved. We use cookies to improve your experience. By continuing to browse the site, you agree to our Privacy Policy and Cookie Policy.\"],\n",
              " ['Presidency College ',\n",
              "  'https://www.shiksha.com/college/presidency-college-chennai-chepauk-20896',\n",
              "  \"Ranked 24 for Arts  by The Week 2019 Updated on Mar 12, 2019 Go to website... http://www.presidencycollegechennai.ac.in Distribution of Rating Placements: The placements are one of the most important features of a college, but mone of the colleges is fulfilled, but in the case of this college, it is giving placement to an extent, but it never provided placements to which number it promises. I will rate 3.5 out of 5 for the placements on the campus. Infrastructure: This is the second most important feature of any college. As Presidency College is of the time of English rule, the infrastructure is also kind of English design. Along with this, the classrooms are good... Placements: For the first time, TCS recruited candidates from Presidency by giving training programme. Most of the medium scale industries and companies from marketing domain came for the recruitment. Those companies are very happy, and they assured that they visit the college on a yearly basis for the recruitment. Infrastructure: The necessary books are available in the general library. Necessary equipment is available in the labs. As this is a government college, you can't expect more facilities like high-speed Wi-Fi, AC etc. We have a good environment to learn well. No one will stop your knowledge search here. You can survive to the maximum extent to gain knowledge. Another best thing is our college will boost athletes, by giving special booster such as more practice. Never worry about the syllabus if you're thinking t... Placements: In the year 2017, for the pass out students, TCS conducted placement programme which consists 40 days training and placement through its drive. 30 students got selected out of 80. The chances were only given to those who participated in the training. Other than TCS, some small companies have conducted placement drives. Infrastructure: The college is just opposite to the seashore, Chennai. The college has a computer lab, physics lab, zoological lab, etc. But, as it is a government college, it's not up to the mark... Presidency College is commonly known as the “Mother of Madras University”. The campus is huge and is close to the Marina beach. The university is very old and the building is about 160 yrs. old. The science departments are a hub of quality research during the time C.V. Raman studied here. It is funded by the government of Tamilnadu. For students who cannot afford private tuitions, the teachers spend extra hours taking special classes. Last year, too, Presidency students came first in all the sci... Placements: Many companies visit our college for recruitment. The placement department does excellent work. Our alumni got placed through their own network in companies, but we didn't have any notable alumni. Placements are wonderful in Presidency College. Reputed companies like TCS, Infosys, etc., visit here for the recruitment process. Infrastructure: Our college has a huge hostel, and about 10 students will share one room. There are PGs near by, which cost Rs. 6,000 per month. Students can get approved course related fie... Placements: 1. in our department we have more than 50students \\n2. The highest salary is about 50-1 L and least upto 20k\\n3. Many fields based on our course\\n4. Must be in formal and conversation must be in English \\n5. In our college and in our department the highest and the lowest is based on our qualifications\\n6. More than 70% of students got an internship. Infrastructure: In our college and in our department we have well cleaned and well-maintained classrooms and we can use mobile phones but not when the teachers taking cla... Placements: 1.70 percent of the students were placed in my college.\\n2. 2 LPA is the highest salary, 1 LPA average and 40000 is the lowest. \\n3. It is a government college so course fees is less.\\n4. 30 percent of the students got internships from IT companies. Infrastructure: We have good library, labs, research department, the classrooms are with bad infrastructure. There is Wi-Fi in library. We have good restrooms, etc. The hostels are pretty good too.\\nThe mess food is okay.\\nCanteen of the college is a waste.\\nWe have good ... National Merit Scholarship – Government of India Scheme\\nAmount: Rs.100 and a Merit Certificate\\nEligibility: S.S.L.C 12th and U.G results\\n\\n\\nFor more scholarships please visit the link below:\\nhttp://presidencycollegechennai.ac.in/UI/scholarship.aspx V 2020-02-20 19:13:08 I got 70,000air rank in Mains and I am ews student. Reply to Venkat A Guide-Level 14 a year ago You can check it by clicking here link of Shiksha College Predictor :-https://www.shiksha.com/engineering/college-predictor P 2019-05-05 14:20:38 Admission for PG courses in presidency college, Chennai for M.A. In public administration. Date, entrance exam, admission, criteria. Reply to Prabin Sharma S Guide-Level 15 2 years ago Here are all the details:https://www.shiksha.com/college/presidency-college-Bangalore-hebbal-19396. a 2019-04-13 21:45:03 Is B.Sc in psychology available at Presidency College, Chennai? Reply to anu anu Contributor-Level 7 2 years ago Yes, it's available. Y 2018-04-25 16:44:38 How can I get admission in this college for BA (Hons) in Economics? What is the required qualification for the same? Reply to Yash Nagar Scholar-Level 16 2 years ago Hi,For details information you can see below link:https://www.shiksha.com/humanities-social-sciences/economics/course/b-a-in-economics-presidency-college-chennai-chepauk-267862Thanks. Get our experts to answer your questions within 24 Hrs Trade Marks belong to the respective owners. Copyright © 2021 Info edge India Ltd. All rights reserved. We use cookies to improve your experience. By continuing to browse the site, you agree to our Privacy Policy and Cookie Policy.\"],\n",
              " ['Loyola College ',\n",
              "  'https://www.shiksha.com/college/loyola-college-nungambakkam-chennai-1108',\n",
              "  \"Ranked 3 for BCA  by India Today 2021  +9 more Updated on Apr 7, 2021 Established in 1925 by the Society of Jesus, Loyola College in Chennai is amongst the premier colleges in India. It is an autonomous institution affiliated to the University of Madras. Conferred as the ‘College of Excellence’ by UGC, Loyola has been accredited with 'A' grade by the National Assessment and Accreditation Council (NAAC). Loyola College, Chennai, is ranked 6th in the college category in the National Institutional Ranking Framework 2019 by the Ministry of Human Resource Development, Government of India. Further, it has been ranked amongst the top 10 colleges in the country for the last 17 years since 2002 by India Today. Spread across 96 acres, Loyola College boasts state-of-the-art infrastructure comprising a central library, smart classrooms, ICT labs, specialised laboratories, Wi-Fi, a cafeteria, a health centre, a sports pavilion, a gym and hostel facilities. Loyola College offers 25 undergraduate, 19 postgraduate, 11 M.Phil and 14 doctoral programmes in various branches of humanities, science and commerce. The college maintains various departments, including History, Social Work, Philosophy, Sociology, Economics, Commerce, Advanced Zoology & Biotechnology, Plant Biology & Biotechnology, Visual Communication, Media Arts, Physical Education, Computer Science, Physics, Chemistry & Food Chemistry, Mathematics, Statistics, English, French, Tamil and Oriental Languages. The popular courses offered at the college are B.Com (CS), B.B.A, MCA, M.Voc. (Digital Journalism/3D Animation), Medical Lab Technology, M.Sc. (Data Science/Computer Science/Biotechnology/Food Chemistry and Food Processing) and M.A. (Social Work/Human Resource Management\\xa0/ Human Rights). Jun 24, 2021: Top 10 BSc, MSc colleges in India Application for admission to Loyola College can be done through the online portal of the college. Admission to undergraduate programmes at Loyola College is done based on the marks scored in the qualifying examination. The admission for all postgraduate courses is carried out through an entrance test followed by an interview. The entrance test is held in June. For the complete admission process, click here Every year, campus placement drives are organised at Loyola College, Chennai. Some of the top companies that recruit students of the college include Google, Amazon, IBM, Ernst & Young Vivo, Tata Motors, Wipro, Larsen & Toubro, Infotech, Ford, Infosys and Tata Consultancy Services. The average salary package offered to the students of the last batch was INR 3.5 LPA. For more details on placements, click here Application for admission to Loyola College can be done through the online portal of the college. Admission to undergraduate programmes at Loyola College is done based on the marks scored in the qualifying examination. The admission for all postgraduate courses is carried out through an entrance test followed by an interview. The entrance test is held in June. For the complete admission process, click here Every year, campus placement drives are organised at Loyola College, Chennai. Some of the top companies that recruit students of the college include Google, Amazon, IBM, Ernst & Young Vivo, Tata Motors, Wipro, Larsen & Toubro, Infotech, Ford, Infosys and Tata Consultancy Services. The average salary package offered to the students of the last batch was INR 3.5 LPA. For more details on placements, click here Go to website... http://www.loyolacollege.edu #3 India Today #3 India Today Distribution of Rating Placements: Mostly all students got placements because, in B.Sc and M.Sc, internships are offered. In internships, we get many contacts from many companies. It is easy for us to approach companies for jobs. All salary packages are offered in our college. Infrastructure: The infrastructure of our college is the best. No one can build buildings like that nowadays. In the hostel, the fee is very reasonable, and the fee for food is also very less. We can get a concession for the college fee, and students get a concession for th... Placements: Our college has a good infrastructure, faculty members and campus. We can get placements easily if we score marks as they give more importance to marks and the skills of students. Most of the students studying here got internships from our course in great companies. Infrastructure: The infrastructure of our college is very good. I am highly satisfied with the infrastructure and also other facilities in this college. I would recommend this college to anyone as it is good for career and life. It is an excellent co... Placements: Students who clear all the subjects can attend the placements. The lowest salary package offered was 2.25 LPA, and the highest salary package offered was 5.25 LPA. A lot of top companies like Amazon, TCS, Tata, Wipro, etc., visit here for placements. Top roles were offered in sales and marketing domains, and the secretary role was also offered. Infrastructure: The college had a Wi-Fi facility. The infrastructure is really very good, and there is a huge library and also a digital library. Classrooms are huge and ... Placements: The students who didn't have arrears were placed in campus placements. 2.25 LPA was the lowest package offered, and 5.25 LPA was the highest package offered. Top recruiting companies were TCS, Wipro, Tech Mahindra etc. The top roles offered were accountant, sales etc. A lot of people got internships from college. I don't know the exact number. Infrastructure: The infrastructure is good. The college has canteens, library, grounds for almost all sports like cricket, football, table tennis, basketball etc. The host... Placements: The best placements are provided here than other colleges. It has a brand name for placements. This is useful for students to get placed in good companies and also provides funds for the students who are economically backward. Students can work part-time in the college canteen. Infrastructure: Facilities are good. The classrooms are neat enough. The canteen is kept good. The food provided is healthy. The hostels are neat. Various sports facilities like volleyball, tennis, cricket, football, basketball, etc., are... Placements: More than 85 percent of students were placed legibly in this particular course. The highest package would be barely 7 lakhs per annum and the lowest package would be 2.5 Lacs per annum. Cognizant, HCL, Wipro are the main recruiters. It is mandatory so more than 95% of the students got internship and placed in French related schools, colleges and institutions. Infrastructure: The infrastructure in our campus is really a great thing to speak about. Spacious classrooms with good ventilation. Going to the facilities... Placements: 80% of students were placed in our course. The highest package is up to 5 Lacs and the lowest is 3 Lacs. CTS, TCS, HCL, Amazon are top recruiting companies for my course. 90% of students got internship from my course. We did internships in schools and companies like Decathlon and private publishing companies. Infrastructure: We had classrooms with good ventilation. Usage of library is allowed to everyone. We had sharing rooms in hostel. The facility and food quality was good. Every year we have celebrated hostel... Placements: About 70% of the students got placed in different companies and NGOs from our department. The highest salary package offered was about 5 LPA, and the average salary package offered was about 3-2 LPA for freshers. Top recruiting companies are mostly MNCs and other NGOs. Roles offered are mostly counsellors in NGOs and HR in MNCs. Infrastructure: We have a well-equipped digital and manual library, and there are ventilated classrooms which make a peaceful environment for students to listen to the lectures. We also ... Loyola College admission 2021 to all the UG and PG courses in the streams of Computer Application, Business, Vocational Studies, and Arts. Admission to UG programmes is merit-based, whereas, for admission to the PG programmes, admission is entrance-based. The college offers all these programmes in two Shifts which include Shift-I (aided) and Shift-II (self-supporting). Additionally, the college also offers PhD and short-term programmes. Candidates willing to apply for Loyola College admission 2021 are required to visit the official website of the college. Here are a few important points regarding Loyola College admission 2021: Q. Is Loyola College a government college? A. Loyola College, a Catholic Minority Institution, was founded by the Society of Jesus (Jesuits) in 1925. It is an autonomous college and affiliated to the University of Madras. Q. Is Loyola College Co-Ed? A. Loyola College is co-ed for all postgraduate courses. In UG, it is only co-ed for Viscom and BMM. For other UG courses, it is not co-ed. Q. What is the ranking of Loyola College? A. Loyola College is ranked 6 by NIRF in 2019. Q. Is hostel available in Loyola College? A. Hostels are provided for boys and girls separately. Admission in hostels will be considered only after the admission in Loyola College. Q. Which are the most popular courses of Loyola College? A. BSc and MSc are considered most popular courses of Loyola College. Q. How is the campus of the college? A. The college is on a 99-acre (400,000 m2) campus in the neighbourhood of Nungambakkam. The campus features tree-lined pathways, academic buildings, steepled Gothic church that dates back to 1930, and separate fields for each sport. Q. What co-curricular activities are there at Loyola College? A. A wide range of sports and games facilities are available to students. It has several clubs like Rotaract Club, Sports Club, Loyola Press Club and many more. Q. How to check the result of internal examinations of Loyola College? A. Go to the official website and then click on the “examinations” button and then click on “result” button. Q. How many courses are there in Loyola College? A. Nearly 40 courses across 8 streams are provided at Bachelors, Masters, PG Diploma and Doctorate levels. Q. What is LIVE in Loyola College? A. Loyola Institute of Vocational Education (LIVE) was inaugurated in the year 1996 to offer vocational education in Loyola College to aspiring youth. It offers programmes in the fields of Media and Travel & Tourism. S 2017-10-03 09:42:47 Which one should I prefer for B.Com: Lovely Professional University or Loyola College (LC, Chennai) and why? Reply to Shiksha Top Questions - Official Account Guide-Level 14 6 days ago Hi, B.Com in LPU is a good choice to go for. It is Accredited by ACBSP (USA). This programme will develop broad commercial knowledge among the students and build skills vital for professional success. Industry certifications, MOOCs, Hackathons / Co-curricular Competitive events, Workshops, Guest ...Hi, B.Com in LPU is a good choice to go for. It is Accredited by ACBSP (USA). This programme will develop broad commercial knowledge among the students and build skills vital for professional success. Industry certifications, MOOCs, Hackathons / Co-curricular Competitive events, Workshops, Guest lectures, Educational Trips, Live projects, Incubation projects, Community projects, projects with NGOs etc. Are an integral part of curriculum. The student may be given Credit Transfer, International Exposure option and Semester Exchange which depends upon the University subject to conditions. The programme outcome includes Communication, Life Long Learning, Business knowledge, Financial Statement Analysis, Sustainability and Ethics, Business Incorporation and Leadership and Team work. The companies that have approached the campus so far are :-DE SHAW INDIA PVT LTDTRIDENT GROUPSCALEROPTMYZREDEN SMART HOMESPREP ONLINEK12 TECHNO SERVICES PRIVATE LIMITEDATIBIR INDUSTRIES COMPANY LIMITEDLIDO LEARNINGEDGISTIFYXOXODAY etc. more S Guide-Level 13 10 months ago Which University is better It all depends upon the prospect of university/college that you are looking forward to like the curriculum and study, recruitment and placement rate and campus infrastructure and life. Few points I am sharing which is told by my sister that will help you to make your de...Which University is better It all depends upon the prospect of university/college that you are looking forward to like the curriculum and study, recruitment and placement rate and campus infrastructure and life. Few points I am sharing which is told by my sister that will help you to make your decision, She did B.Com from LPU. She told me the programme aims to build in students competent business acumen through advanced study of general subjects such as Organizational Behavior and Cost Accountancy, later allowing them to specialize in a chosen area. The curriculum involves intensive study, culminating with the completion of a research-based dissertation. Students get opportunities for co-curricular, extra-curricular and sports activities on the campus under the guidance of experienced trainers. Active participation of students in various Clubs like Finance, Marketing, HR, Operations, etc. Is ensured for practical learning and sharpening organizing abilities. In addition to this other event like ETIC - Economic Times Quiz, TATA Crucible Quiz, Annual Report Analysis, Open House Discussions, Business Quizzes, and Discussion on current affairs. Case study competitions, Company Day, etc. Are organized by student managed clubs on a regular basis. Regular Industry Interaction is ensured through guest lectures, Industrial visit, and live industry projects, etc. Industry and Academicians from National and International Level visit the University to share their experiences, thus, providing global exposure to the students. The course may also include Practical/ workshops, technical and entrepreneurial projects as well as courses with exposure to cutting edge technologies. The students who opt for UG and PG commerce programme are also offered short-term certifications in addition to their regular curriculum. The certifications offered are Entrepreneurship Development programme and Export-Import Procedures & Documentation. This boosts up the performance level and the resume of the student and supports in getting a better placement. We also promote them to start up their own entrepreneurial venture. Students have the opportunity to do class assignments or get associated with consultancy projects with faculty in companies like Next Care, Mind Clinic, Videocon, Coca Cola, Aircel, Idea, UTI, Big Bazaar, etc. Students get opportunity to work on a community development project on social issues like women empowerment, rural employment. Thank you!more V 2018-05-17 13:22:06 Does Loyola College offer B.Sc in forensic science course? If available what is the fee structure? Reply to Vignesh ravi R Beginner-Level 1 a week ago I want to apply for B.Sc. Forensic Science. R 2021-06-23 14:19:55 Is Loyola college Chennai is co. ed for B.Sc. Department? Reply to Rohan h Scholar-Level 16 5 days ago It is only for boys. Loyola college is basically a college for boys but some of the undergraduate courses of VISCOM and french are open for girls. Post graduation is co-ed, only departments which offers admission to girls in loyola college. T 2021-06-23 18:04:38 Do loyola college of Hyderabad conduct entrance exam for admission in B.Com (hons. )? Do without maths student can pursue B.Com (honours)? Reply to Tanu Sharma h Scholar-Level 16 4 days ago Hi. Yes. Entrance exam is there Eligibility CriteriaApplicants are required to meet the following criteria:All candidates are required to have passed 10+2 with the following specifications:B.Com &amp; B.Com [H]: Advertising &amp; Brand Management: MEC/CEC/CEG/MPC 55% aggregate. Computer A...Hi. Yes. Entrance exam is there Eligibility CriteriaApplicants are required to meet the following criteria:All candidates are required to have passed 10+2 with the following specifications:B.Com &amp; B.Com [H]: Advertising &amp; Brand Management: MEC/CEC/CEG/MPC 55% aggregate. Computer Applications: MEC/CEC/CEG/MPC 55% aggregate. Business Process Management: MEC/CEC/CEG/MPC 55% aggregate. Advertising, Sales Promotion And Sales Management: MEC/CEC/CEG/MPC 55% aggregate. International Accounting And Finance: MEC/CEC/CEG/MPC 60% aggregate. Strategic Financing: MEC/MPC 60% aggregate. Selection CriteriaSelection to these courses are conducted on the basis of entrance examination conducted by the college. Candidates are required to score a minimum of 50% marks in Mathematics, Economics and Commerce individually. more S 2021-06-25 11:14:36 What is the fee structure for B.sc.in Mathematics at loyala college 2021_2022? Reply to Sarulatha h Scholar-Level 16 3 days ago Hi,The fee for B.Sc in mathematics is Rs. 1,59,120. D 2017-10-26 12:41:11 Do I need to clear any exam to get admission in Loyola College (LC, Chennai) for MA in English literature? Reply to Dharini Karukanaran T Contributor-Level 7 4 months ago Loyola admission process is done online . Candidates are required to fill out the online application form given on the official website for Loyola College admission 2021 .For undergraduate courses ,Loyola college confirms admission based on the marks secured in the qualifying examination. C 2021-01-07 20:03:42 Now I'm pursuing B.Tech 2nd year in loyola institute of technology can I join 3 year B.Tech in Loyola icam college. Reply to Christina 12 Scholar-Level 18 5 months ago Hello Christina, I am sure you can join this course in the new college. What you need to do is seek out the administrative staff of your present college and request them to provide you with application form and also the procedure to process this so that you can successfully apply for change and g...Hello Christina, I am sure you can join this course in the new college. What you need to do is seek out the administrative staff of your present college and request them to provide you with application form and also the procedure to process this so that you can successfully apply for change and get it done also. Best wishes to you. more A 2020-12-25 12:08:55 Is an B.tech graduate  eligible for this M.A Economics in Loyola College? Reply to Abisheka Heart K Beginner-Level 1 6 months ago Online class MA in Economics Get our experts to answer your questions within 24 Hrs Trade Marks belong to the respective owners. Copyright © 2021 Info edge India Ltd. All rights reserved. We use cookies to improve your experience. By continuing to browse the site, you agree to our Privacy Policy and Cookie Policy.\"],\n",
              " ['St Xavier’s College ',\n",
              "  'https://www.shiksha.com/college/st-xavier-s-college-kolkata-park-street-23242',\n",
              "  \"Ranked 6 for Commerce  by The Week 2020  +3 more Updated on Apr 8, 2021 The first autonomous college of West Bengal, India, St. Xavier’s College, Kolkata was founded in the year 1860 by Fr. Henri Depelchin. Named after Francis Xavier, the college was established by the contribution of Society of Jesus, a Catholic minority religious body. In 1862, it was affiliated to University of Calcutta. It was ranked 10th in Indian Ranking 2019 for colleges. Over the years, the college has made significant contributions in the educational field. To celebrate that, the Indian post put up a commemorative stamp in its honour in 1985. St. Xavier’s College has minimum eligibility criteria for the candidates to fill up the application forms. It does not hold any admission test for the following courses - B.Com. Honours (Morning and Evening), B.A.- Honours in English, Honours in Political Science, Honours in Sociology, Honours in Bengali, B. Sc. - Honours in Economics, Honours in Physics, Honours in Chemistry, Honours in Statistics, Honours in Mathematics, Honours in Microbiology, Honours in Biotechnology (Integrated), and B.A. General. The college prepares a merit list according to the marks obtained by the candidates in the 12th standard exam. However, it conducts an admission test for honours in B.M.S., honours in B. Sc. Mass Communication and Videography, M. Sc. Multimedia (Integrated), and a merit list is prepared accordingly. To know more about admission process, Click Here In the past three year St. Xavier’s College has minimum eligibility criteria for the candidates to fill up the application forms. It does not hold any admission test for the following courses - B.Com. Honours (Morning and Evening), B.A.- Honours in English, Honours in Political Science, Honours in Sociology, Honours in Bengali, B. Sc. - Honours in Economics, Honours in Physics, Honours in Chemistry, Honours in Statistics, Honours in Mathematics, Honours in Microbiology, Honours in Biotechnology (Integrated), and B.A. General. The college prepares a merit list according to the marks obtained by the candidates in the 12th standard exam. However, it conducts an admission test for honours in B.M.S., honours in B. Sc. Mass Communication and Videography, M. Sc. Multimedia (Integrated), and a merit list is prepared accordingly. To know more about admission process, Click Here In the past three years, St. Xavier’s has witnessed an increase in the number of offers floated as well as the average CTC offered during on-campus placements. The number of companies visiting the campus has increased considerably over the years. In 2016-2017 session, 30 companies visited the campus, while in 2018-2019 session, 43 companies participated in the recruitment drive. Some of the key employers visiting the campus include Futures First, Tata Consultancy Services, Delloite, KPMG, J.P. Morgan, Google, Zomato, Oyo Rooms, D E SHAW, INFOSYS, VIACOM 18, Uber, Adidas, Cognizant, Sony India Ltd., HSBC, HDFC Bank, ICICI Bank, Citi Bank and many others. More than 500 students from various departments have been placed, and the annual CTC ranges from 3 lakh to 20.5 lakh. To know more about placements, Click Here St. Xavier’s College has always made an effort to help the students who belong to the economically weaker section of the society in their educational endeavour. It offers the following scholarship programmes- Late Manoranjan Mitra Memorial Prize to the student obtaining the highest marks in English, Dr Basudeb Banerjee Memorial Scholarship on the basis of need and merit to one M. Sc. Physics and M.Sc. MCB student, Uma Kanta Agarwal Scholarship, Late Rukmini Devi Goenka Scholarship, Infar (India) scholarship and many others. To read students' reviews, Click Here Go to website... http://www.sxccal.edu Distribution of Rating Placements: The college has its own placement cell where you can apply while looking for placements. About 30% of the students who applied for placements got placed. The highest salary package offered is 12 LPA, the lowest salary package offered is 2 LPA, and the average salary package offered is 4 LPA. Top recruiting companies are KPMG, EY, Deloitte, PWX, Grand Thornton, Zomato and Tata. About 70% of the students who applied for internships from our placement cell got it. However, all students are required... Placements: This is one of the best colleges in Kolkata. Many students are passed out from this college. Placements here are very good. Generally, students scoring above 80% to 90%in main subjects were enrolled. Infrastructure: The infrastructure of the college is awesome. There is a library that will dive you into the joy of learning. Annual sports function is also held. Classrooms have good infrastructure. I don't know about hostel life because I am a days scholar. But I hope it may be good because our college provides al... Placements: St. Xavier's is the only undergraduate college in East India to have good placements. About 30% of the students from the batch got placed in top-tier companies like big 4 companies, D.E. Shaw and Goldman Sachs. The highest salary package was provided by D.E. Shaw, which was approximately 20 LPA, while the average salary package offered was around 4 LPA-5 LPA. Infrastructure: Facilities offered here are standard. The infrastructure is not modern, but it forms the aura that the college has a history of more than 150 years. Our college is equipped with an auditorium which has a seating capacity of more than 500 students. There is a good computer lab for IT subjects, and there are basketball courts, etc. The library is huge with relevant books. In the canteen, rates of the food served are reasonable, and the canteen is stocked with a huge variety of food items. There is... Placements: From our course, around 50% of the students were placed. The highest salary offered here was Rs. 50,000 per month, and the lowest salary offered was Rs. 10,000 per month. The average salary offered was Rs. 25,000 per month. Around 80% of the students get an internship in various companies across the country. Our college helps students in the best way possible to grab different roles as per their choices. Infrastructure: Our college's library is highly equipped and has various books which get updated regularly. T... Placements: The college has a very good reputation for the commerce field, along with other fields including management, economics and sciences. The recruiters came from renowned houses in Kolkata such as Emami, Deloitte, PwC, KPMG, and E&Y. The B.Com graduates got offers from banks as well. They were offered more than the market packages. Students opted for further studies and didn't go for jobs, but those who were interested in jobs got very decent offers for the career prospects. Infrastructure: The college infrastructure is the best. One could easily Google up the college and find out images of various facilities at the college. We have a huge ground, a well-facilitated auditorium, laboratories, computer lab, a huge air-conditioned library, and one can easily study there the whole day. The college also offers hostel facilities which are under the supervision of responsible faculty members who also are teaching at the college. The hostels are available for girls and boys. The amenities ... Placements: Around 50% of the students got placed. The lowest salary offered is Rs. 10,000 per month, and the highest salary offered is Rs. 50,000 per month. The average salary offered is decent, but it should be better. Many NGOs and other companies provide internship opportunities for students. Infrastructure: Research work facilities are available in our college. There is a very good library. The hostel is good and keeps students comfortable. This college provides students with the best facilities and gives them various ... Placements: About 1,000 students out of a total of 1,600 students are offered placements from our college, i.e., about 62.5% of the students find jobs. Top recruiting companies here are PwC, Deloitte, Lodha group of companies, Hyatt, etc. The placement cell is completely dedicated to providing students with the best of the courses. Infrastructure: The library of our college is one of a kind, and students can have access to Wi-Fi, computers and numerous books in the library. There is a newly opened sports centre (gym) in our... Placements: The placements offered are satisfactory. Renowned companies such as the Big Four, D.E. Shaw Hyderabad and also other companies from Kolkata come here. Diverse roles are offered. There is an internship drive conducted by the placement cell of the college every year. The companies that come for this internship drive are mainly Kolkata-based and students can look out for a few good opportunities. On average, the opportunities are not exceptionally good. The top roles offered in this internship driv... St. Xavier’s College Kolkata is one of the oldest institutes in Kolkata which was established in 1860. The college is affiliated to University of Calcutta, Kolkata. It offers admission to UG, PG and PhD programmes in the field of Arts, Commerce, Science, Business Administration, Law and Education. Candidates, in order to partake in the admission process, must fill the application form before the last date as per the schedule of each course. Candidates seeking admission to any of the courses of St. Xavier’s College Kolkata can apply online by visiting the official website of the college. Here are some important points regarding the admission process: R 2021-02-09 10:44:28 Will i get admission in this college by taking applied maths in class 11 nd 12 cbse board? Reply to Rima D Guide-Level 12 4 months ago For admission in B.com at St. Xavier college Kolkata,the criteria is -Subjects criteria  - English + ( Maths / B.Maths / B.Maths &amp; Eco / Stats)Qualifying subjects for marks calculation - English + ( Maths / B.Maths / B.Eco including Maths / Stats) + ANY TWOMin.  marks required - 60% aggre...For admission in B.com at St. Xavier college Kolkata,the criteria is -Subjects criteria  - English + ( Maths / B.Maths / B.Maths &amp; Eco / Stats)Qualifying subjects for marks calculation - English + ( Maths / B.Maths / B.Eco including Maths / Stats) + ANY TWOMin.  marks required - 60% aggregate ( based on above mentioned subjects)Selection - on the basis of merit ( based on + 2marks)So  you can choose the correct subject combination on the basis of compulsory subjects.Best wishesmore N 2019-05-27 17:45:07 I got 77% in hs this year . I have secured 67 in physics and 50 in maths.can i apply for this college Reply to Neharika Rai Guide-Level 13 2 years ago There are only few chances of getting admission in this college with your percentile. So, hope for the best. Guide-Level 15 2 years ago I don't think you will get admission in this college at this marks in class 12th. Yes, you can definitely apply for this college but chances are very very low. Best of luck. B 2020-05-14 12:21:29 Whats the date of applying for the BBA course of in sxc Kolkata 2020? I went to the site but there's no details about the apply botton help. Reply to Bishal shaw K Contributor-Level 7 a year ago Hi,You can check the help line numbers given on the website so that you can contact them there as I know of LPU which states all the details of contacts as well as admission procedure on its website. Even the scholarship for which a candidate would be liable is informed to the students once he lo...Hi,You can check the help line numbers given on the website so that you can contact them there as I know of LPU which states all the details of contacts as well as admission procedure on its website. Even the scholarship for which a candidate would be liable is informed to the students once he logs in to the web site. So check from the contacts of the website for such details. All the best.more S 2020-07-17 14:59:37 I have scored 84.4% aggregate,  420/500 marks total and 94 in english in AISSCE exam, can I get admission in St. Xaviers College, Kolkata? Reply to Samadreeta Garain Scholar-Level 18 11 months ago You have not mentioned about the course for which information is required. However your English marks can give you the advantages. The 200% of weightage is given to English subject in B.A. Hons. English. So yours chances can be made here. H 2020-07-17 09:15:33 Can I get admission in it my CBSE marks are 95 in maths 89 in chemistry and physics and 95in physical education and 77 in English Reply to Himanshu Pandey Scholar-Level 18 11 months ago Yes, you have chances here. The class 12th marks 95% or above are good enough for this college. B 2020-07-19 11:39:39 What are the requirements for B.SC  Mass Communication? Reply to Brighty Mishra v Contributor-Level 10 11 months ago You just have to pass your class 12th with the minimum marks 55% from any stream. And the admission is based on the merit list. so you have to score best in your class 12th. L 2020-03-20 15:39:45 can i get into economics hons. if my marks in maths is not included in the best of 4? Reply to Lyudmila Baruah Beginner-Level 5 a year ago Many universities do not allow eco Hons. Without including maths marks.Although, it depends upon the university's own rules and regulations.So, kindly go through the college website in which you wish to get admission. A 2020-02-16 20:39:26 Are there any chances for admission in St Xavier's college, Kolkata with a 92+% in wbchse with no maths in 11 & 12th for Bcom honours? Reply to Aarya Chatterjee Scholar-Level 16 a year ago To get admitted in St. Xavier's College, Kolkata for B.Com, you must have Mathematics in your +2 that is class 11th and class 12th Maths and English are the two compulsory subjects. Scholar-Level 17 a year ago To get admitted in St. Xavier's College, Kolkata for B.Com, you must have Mathematics in your +2 that is class 11th and class 12th Maths and English are the two compulsory subjects. Get our experts to answer your questions within 24 Hrs Trade Marks belong to the respective owners. Copyright © 2021 Info edge India Ltd. All rights reserved. We use cookies to improve your experience. By continuing to browse the site, you agree to our Privacy Policy and Cookie Policy.\"],\n",
              " ['Ramakrishna Mission Vidyamandira ',\n",
              "  'https://www.shiksha.com/college/ramakrishna-mission-vidyamandira-howrah-52978',\n",
              "  \"Updated on Apr 12, 2019 Go to website... http://www.vidyamandira.ac.in Distribution of Rating Placements: Students from the industrial chemistry department mostly get jobs after B.Sc. Highly reputed companies like ACC, Emami, India Oil, ONGC, etc., visit here every year for placements, and the position offered is chemist or analyst. The average salary package offered here is around 2 LPA-2.5 LPA. But most of the students opt for higher studies. Infrastructure: Labs are well equipped here. There are more than 15 research laboratories for chemistry PhD scholars. Computer labs are well equipped. There is an internet Kiosk also for study purposes. There is a huge library which contains many books on every necessary subject. Moreover, there is a small library in the hostel building for leisure purposes. Hostels are clean and quite spacious, and every hostel room contains 5 students. The food provided here is hygienic and healthy. The canteen is also availa... Placements: Almost 60-80% of the students got placed. The lowest salary offered was Rs. 30,000-50,000 per month. TCS, Wipro and Cognizant companies provided jobs here, and also other government jobs. Out of 60 students in the course, almost 40 students got internships. Roles offered to us as a manager, HR, head analytics, etc. in excellent institutions. Infrastructure: As it is a missionary college, it has fulfilled all our primary needs. Mobile and Wi-Fi usage is prohibited in college, but students can access the internet ... Placements: As a B.Sc physics student, there are not many chances to get placements. Students get opportunities to pursue M.Sc programme from the top institutes in India. In our batch of 21 students, 6 students got into IIT Kanpur, 4 students got into IIT Madras, 1 student got into HRI, 1 student got into IISC Bangalore, and another student got into IIT Guwahati. Some of our friends are studying in Delhi University, Vivekananda University, Hyderabad University, and ISM Dhanbad. Students of our batch have pe... Placements: There is a placement cell. But as far as I know nobody went for a placement. Every body went for higher studies across the India. In my batch 7 are at IIT Kanpur,4 at IIT Madras,1 at IIT Guwahati,1 at iisc Bangalore,1 at HRI,1 at Delhi University,1 at Hyderabad central university and others are doing M.Sc.  in different renowned Universities. Remember there were only 21 students in our batch. Infrastructure: Infrastructure is good. Completely residential at minimal fooding and lodging. Highly equipped lab. Well maintained surroundings. Ashramik environment and lots of thing. The full guidance of maharaj how to lead a healthy life and how to handle your life is also a key to success. It can not explain in words what are my gains from there. But I can assure you the student passing out from there not only a bright student of country in basic Science but also a way ahead in the journey of being complet... Placements: The students from English department of this college hardly find it difficult to land a job. Our students are well placed everywhere from the government sector to media houses and another private sector. However, like any degree college, this college does not arrange for placement directly except for students of the industrial chemistry department, but the placement cell of this college runs various courses, like training for CAT or GRE, to help students a land job.                              ... Placements: It does not conduct any placements by itself, but it is such a good college that it does show you the path through which you can achieve the goal and get placed. I don't know any person yet who, after graduating from this college, never got any job. Infrastructure: The infrastructure is very good. It is a fantastic place to live in. There are five hostels named Vinay, Vidya, Vivek, Shree, and Shradhya. We have two playgrounds, one on campus and one outside. We also have an auditorium, and the classrooms are well... Meritorious students can avail Financial assistance in the form of monthly stipends.\\nFinancial assistance is provided to approximately 40% of the students of the college. The amount of monthly stipend given to an individual student varies from Rs.100 to Rs.1600 per month. A fairly huge amount more than Rs.18 lakhs was distributed last year as scholarships and stipends.\\n\\nStudents can avail scholarships and financial assistance from other sources. These scholarships, routed through the college, include:\\n1.Governments of India and Goverment of West Bengal.\\n2.University Grants Commission.\\n3.Ramakrishna Mission Vidyamandira Alumni Association.\\n4.Ramakrishna Mission Institute of Culture, Golpark.\\n5.Our dear and respected ex-students.\\n6.Ramakrishna Mission Headquarters, Belur Math.\\n\\nNote:\\n1.Follo Get our experts to answer your questions within 24 Hrs Trade Marks belong to the respective owners. Copyright © 2021 Info edge India Ltd. All rights reserved. We use cookies to improve your experience. By continuing to browse the site, you agree to our Privacy Policy and Cookie Policy.\"],\n",
              " ['Hansraj College ',\n",
              "  'https://www.shiksha.com/college/hansraj-college-malka-ganj-delhi-3062',\n",
              "  'Ranked 4 for Commerce  by India Today 2021  +5 more Updated on Jul 3, 2021 Hansraj College, a government college situated in Malka Ganj, Delhi, is one of the largest constituent colleges of the University of Delhi. Established in 1948, it offers courses in Liberal Arts, Science and Commerce. Hansraj College is accredited by the National Assessment and Accreditation Council (NAAC) with an \\'A+\\' grade and has been ranked 9 in NIRF 2020 rankings. It has also been ranked 5 for Commerce by The Week 2020, ranked 5 for Science by The Week 2020, 6 for Arts by India Today 2020 and ranked 7 for Arts by The Week 2020. Jul 5, 2021: Top 10 Commerce Colleges with Best Placements 2021 - India Today Rankings Jun 30, 2021: Top 10 Commerce Colleges in India 2021 - India Today Rankings Latest Update July 2, 2021: Two BCom students from Hansraj College have won the prestigious EY Scholarship this year. Hansraj offers undergraduate and postgraduate courses in Science, Commerce and Humanities. It also offers add-on courses such as Radio Jockeying, Anchoring & TV Journalism, Acting and Filmmaking, Mass Communication, Journalism & Marketing, and Digital Marketing Professional. On average, each department has a faculty-student ratio of 1:25. The college has an excellent Central Library and a Book Bank for needy students. It also has well-equipped Computer and Science laboratories, an indoor sports complex, and the only Electronic Shooting Range in the University. College also provides hostel accommodation for 200 undergraduate boys only. Summarised details of the important aspects of the Hansraj College, Delhi has been given in the tabular form below: Established 1948 Also known as Hans Raj College Location Malka Ganj, Delhi Affiliated to University of Delhi Recogned by UGC, NAAC “A+” accredited Rankings (2020) - 5 for Commerce by The Week - 5 for Science by The Week - 6 for Arts by India Today - 7 for Arts by The Week Number of courses 34 courses in 5 streams Average placement package (2020) Rs 5.7 LPA Popular recruiters DE Shaw, United Airlines, Boston Consulting Group, McKinsey & Company Mode of education Full-time Mode of application Online Official website www.hansrajcollege.ac.in Hansraj College Prospectus (2021) Download here Hansraj College, Delhi offers 34 courses across five different streams, including Science, Arts, Management, Commerce & Banking and Engineering. These courses include BSc, BA, BTech, BCom, MA and MComOther than those, the university also offers certificate and diploma Latest Update July 2, 2021: Two BCom students from Hansraj College have won the prestigious EY Scholarship this year. Hansraj offers undergraduate and postgraduate courses in Science, Commerce and Humanities. It also offers add-on courses such as Radio Jockeying, Anchoring & TV Journalism, Acting and Filmmaking, Mass Communication, Journalism & Marketing, and Digital Marketing Professional. On average, each department has a faculty-student ratio of 1:25. The college has an excellent Central Library and a Book Bank for needy students. It also has well-equipped Computer and Science laboratories, an indoor sports complex, and the only Electronic Shooting Range in the University. College also provides hostel accommodation for 200 undergraduate boys only. Summarised details of the important aspects of the Hansraj College, Delhi has been given in the tabular form below: Established 1948 Also known as Hans Raj College Location Malka Ganj, Delhi Affiliated to University of Delhi Recogned by UGC, NAAC “A+” accredited Rankings (2020) - 5 for Commerce by The Week - 5 for Science by The Week - 6 for Arts by India Today - 7 for Arts by The Week Number of courses 34 courses in 5 streams Average placement package (2020) Rs 5.7 LPA Popular recruiters DE Shaw, United Airlines, Boston Consulting Group, McKinsey & Company Mode of education Full-time Mode of application Online Official website www.hansrajcollege.ac.in Hansraj College Prospectus (2021) Download here Hansraj College, Delhi offers 34 courses across five different streams, including Science, Arts, Management, Commerce & Banking and Engineering. These courses include BSc, BA, BTech, BCom, MA and MComOther than those, the university also offers certificate and diploma courses on varied subjects. These are full-time, on-campus courses the duration of which differs from 2 years to 4 years as per the degrees. Some of the popular courses offered by Hansraj College, Delhi are listed below: BA (Hons) Class 12 with a minimum 40% aggregate Rs 20,945 BSc (Hons) Class 12 with a minimum 40% aggregate Rs 24,115 BCom (Hons) Class 12 with a minimum 40% aggregate Rs 20,945 MA Candidates must pass BA from a recognised institute Rs 18,434 Hansraj College admission process 2021 is conducted in online mode, due to the on-going Covid-19 pandemic. The process includes filling of the application form and after the release of the cut-offs, the eligible students are required to visit DU’s official website and apply for the college of interest. Hans Raj admission confirmation is considered only after the submission of first year fee and verification of the documents. Below mentioned is the table of the admission process for all courses offered by Hansraj College, Delhi: BA (Hons) Merit-based 446 BSc (Hons) Merit-based 602 BCom (Hons) Merit-based 208 MA Merit-based, DUET 130 DU registrations 2021 are expected to begin from July 15, 2021. All the important dates around DU cutoff 2021 will be published here as soon as they are released by the university. Also, any changes in the registration dates and admission process will be reflected on this page as soon as released by the official authority. DU registration starts 15-Jul-2021 (Tentative) DU first cutoff To be announced DU second cutoff To be announced DU third cutoff To be announced DU fourth cutoff To be announced DU fifth cutoff To be announced NOTE:\\xa0All these dates will be populated once released by the Delhi University. According to the official site of Hansraj College, Delhi, there were a total of 214 active applicants for placements, out of which 160 students were successfully placed in Sales & Marketing, Finance, IT, Analyst and various other sectors. The Placement Cell is very interactive and has consistently placed students in firms such as McKinsey & Company, Boston Consulting Group, Bain Capability Network, DE Shaw and United Airlines. Below are some of key highlights regarding Hansraj College placements 2020: Source: Official website Hansraj College offers a couple of merit and need-based scholarships that benefit around 100+ students taking admission each year. It gives a fee concession of 50% to 100% on the basis of the annual family income, family background, girl child, etc. Other scholarships are also offered by NCERT, FAEA, Single Girl Child policy, DAV etc. The Inspire Scholarships offered by the Department of Science and Technology and the scholarships extended by CBSE are also offered to the students of Hansraj College. Each year, the college’s Alumni Association gives a scholarship of Rs 5,000 and Rs 3,000 to the enabling unit’s meritorious students. Lastly, every student qualifying under the differently-abled category gets a full fee waiver. Some of the popular alumni of Hansraj College are as follows: Distribution of Rating Placements: In Hansraj, the placement cell is considered to be one of the most prestigious societies across the university. The placement cell is highly active and committed to providing the best possible opportunities for students. Only final year students are eligible for campus placements. Companies such as EY, Deloitte, D.E. Shaw, Oyo, Zomato, McKinsey and Company, Future First, ITC, InShot and Wipro have visited the college to hire students from various streams. Specifically, from the commerce stream, ... Placements: Economics Hons receives most placements. Most of the students who opt for campus placements are getting placed in eminent companies. The average salary package offered was about 24 LPA, and the average salary package offered was 7 LPA. United Airlines, Deloitte, Byju\\'s, Decathalon, Zupee, etc.. are the top recruiting companies. Students are placed in roles like business analyst, financial analyst, and research assistants. There\\'s an internship cell also working in the college which provides inte... Placements: Students who have more than 8.5 CGPA got admission to our course. The lowest salary package offered in our course was around 10 LPA to 15 LPA. Our exams are not yet conducted. However, you can do a job as a librarian, teacher, lecturer, etc. Our college provides many placements, so students have more opportunities. Infrastructure: The infrastructure of our college is amazing. The hostel is neat and quite maintained. Many games and sports are conducted in our college, and there is a college team for every sport. ... Placements: We all know that B.Sc maths Honours is a general course and not a professional course like B.Tech or MBBS, so it provides less placement opportunities compared to other courses. Hansraj College is one of the best colleges of Delhi University, so highly-reputed companies visit here for placements. The placement rate is not good for science courses in our college, but it is very good in a commerce programme. Students can easily get a placement from a B.Com programme. The highest salary package off... Placements: I\\'m a first-year student pursuing bachelor\\'s of commerce (Honours). Hansraj College is famous for its placements. We have a placement cell in our college, which looks after these placements and is amongst the best placement cells in the entire DU circuit. The average package offered is 4-6 LPA, whereas I was told by my seniors that the highest package offered last year was 20 LPA. Infrastructure: All the facilities and infrastructure at Hansraj College are up to date and of the highest quality. Hansraj College i... Placements: Placements are great, and great companies are coming like BCG, Baine, EY, Deloitte, McKinsey and several leading banks. Placements are offered with huge salary packages for students. Students go for consulting, auditing and several management roles. Infrastructure: There are air-conditioners, and the ground is well-maintained. There are 2 great canteens. Classrooms are well-maintained with good quality desks. Sports facilities are provided to all students with almost all sports available in the college. Placements: There are no placements for B.Sc. or M.Sc. in Physics. Everyone has to prepare for some competitive exams like NET, during M.Sc. or JAM during B.Sc. in Physics. Otherwise, you have to prepare for some government exams after these courses for finding a job if you are not interested in PhD. Infrastructure: Due to the lockdown, I am not able to visit the college right now. So, I cannot say about the facilities provided. But as far as I know, the infrastructure is awesome. A canteen and medical facilities are availa... Placements: The placements in our college were moderate because mill companies visited our campus. Those companies include mediocre media houses as well as some advertising firms which preferred to hire students who were freshers. So, they could mould students pretty much the way they desired. Infrastructure: The infrastructure of our college needs some overhaul, but it is good at both space and history. Our college has all things, but it should perform well to do renovation every now and then. However, it always tries to k... Hansraj College admission begins usually in the month of May and classes begin in the month of July every year. However, this year, admission is delayed due to rising Covid-19 cases in India. Hansraj College offers full-time UG and PG programmes in the field of Arts, Science and Commerce such as BCom (Hons), BA (Hons) English, BA (Hons) Economics, MA, MCom and MSc. Hans Raj College admission 2021 is both entrance and merit-based. Hansraj College is affiliated to University of Delhi and admission to its UG courses will be based on the merit of Class 12 this year, as declared by DU\\'s VC. Any changes made in Hansraj College admission process 2021 will be published on this page as soon as they are released by the University. DFP-Banner Hansraj Colleg Hansraj College\\'s Scholarships:\\n\\n1. Merit and need based Scholarships\\n2. Scholarships by DAV, Single Girl Child policy, NCERT and FAEA\\n3. Scholarships for the Enabling Unit: Two awards of Rs.5000 and Rs.3000 are given to the meritorious students of the Enabling Unit every year by the college Alumni Association\\n4. Scholarship for the Differently-abled Students: Student belonging to the differently-abled category gets a full fee waiver and is required to contribute to the Students\\' Union fund and some other minimal charges only Hansraj College along with other DU constituent colleges released its first, second, third, fourth, fifth, sixth and seventh cutoff lists for UG admission on October 10, 17, 24, 31, November 7, 28 and December 5, respectively. BA (H) English with 96.5% turned out to be the course with the highest seventh cutoff 2020 in the General category. Candidates, who wish to apply for Hansraj College admission, can check the cut off details mentioned on this page. Also, keep checking this page for the next cut off lists that are yet to be announced by Delhi University. Latest Updates Hansraj College seventh cut off 2020 was released on December 5, 2020. The document verification under this list will take place between December 7 and 9 and the last date of fee payment under this Samagam is the annual youth conference of Hans Raj College. Aim of the confer...Samagam is the annual youth conference of Hans Raj College. Aim of the conference is to interchange of ideas between the future and the present generation by organizing speaker sessions with some of the most eminent names in today\\'s society.more Cynosure is the Annual Technical Symposium of Hansraj College organized by th...Cynosure is the Annual Technical Symposium of Hansraj College organized by the members of Ordinateur - The Computer Science Society, Hansraj College. It is a two-day event which includes event like Coding, LAN Gaming, Quizzing, Gully Cricket and much more.more LitAmantes is the annual literary festival of Hansraj College conducts by the...LitAmantes is the annual literary festival of Hansraj College conducts by the English Literary Society of Hans Raj College. It is the two day event. A participant includes students of top-notch colleges of Delhi University, Jawaharlal Nehru University, Ambedkar University, IP University, Amity University and other universities and institutions in the city. The abundance of active youth at such an event makes for an effective platform for the promotion of any brand or product.more Q. Does Hansraj College hold NACC accreditation? A. Yes, the college has NACC accreditation and awarded Grade A+ with 3.62 CGPA. Q. What is the NIRF ranking of Hansraj College? A. Hansraj College bagged 9th rank in NIRF All India Ranking 2019 and has been ranked 2nd best college of Delhi University after Stephens in science and for commerce after SRCC. Q. Is there hostel accommodation available in Hansraj College? A. Yes, hostels are available for boys. The hostel accommodates around 200 undergraduate students. Candidates who wish to opt for hostel need to apply separately on a prescribed form available from the college hostel office immediately after finalization of their admission to the college. Q. What is the total hostel fee for the year 2020-21 at Hansraj College? A. The total fee for 6 months is Rs 21,000. Q. Does Hansraj College have seat reservation for SC, ST and other backward classes? A. A total of 22.5% seats are reserved for students belonging to SC and ST (15% for Scheduled Caste and 7½% for Scheduled Tribes, interchangeable if necessary). 27% seats are reserved for the candidates belonging to Other Backward Classes (OBC) (non-creamy layer, central list). Q. Is there any scholarship facility at Hansraj College? A. Merit and need-based scholarships are given by the college. The college also has the facility to give fee concession from 50% to 100%, based on annual income, family background, girl child etc. Q. What are the courses offered at Hansraj College DU? A. The college offers degree and Diploma programmes at UG and PG level in the stream of Science, Humanities & Social Science, Accounting & Commerce, Mass Communication & Media, and Business Management Studies. Q. On what basis is admission granted at Hansraj College? A. For UG courses, admission is done on the basis of marks obtained in the qualifying exam and for PG it is done on the basis of marks obtained in the entrance test conducted by the university. Q. What is the mode of admission at Hansraj College? Q. What are the documents required at the time of admission at Hansraj College? Q. Does Hansraj College have seat reservations? A. Other than the General category, Hansraj College has seats reserved for SC, ST, OBC, EWS, ECA, persons with benchmark disabilities, children/ widows of personnel of the Indian Armed Forces, J&K students, Kashmiri migrants, Sikkimese students, ward quota, sports and foreign applicants. Q. Is Hansraj College good? A. Hansraj College is ranked 9 in the NIRF 2020 rankings under \\'College\\' category, 5 for Commerce by The Week 2020, 5 for Science by The Week 2020, 6 for Arts by India Today 2020 and 7 for Arts by The Week 2020. Looking at these rankings, it can be totally concluded that Hansraj College is one among the top colleges in the country. Q. Does Hansraj College offer certificate courses in foreign languages? A. Hansraj College offers certificate courses in three foreign languages which are French, Spanish and German. Candidates, who have passed Class 12, are eligible to apply for these courses. Q. When does Hansraj College admission begin? A. Admission to all the DU colleges, including Hansraj College generally begins as the cut-off marks are released for each college from the month of June while classes start from July. However, like last year, there might be a delay in the process due to surge in Covid-19 cases. Last year, the cut-off marks list was published in October due to which classes started in the month of November. S 2018-04-27 21:26:43 My percentage in 12th was 68.8%. Can I get admission in Has Raj College? I have 68.8 in 12th and I am from science background. Reply to Sriyanka Sriyanka Contributor-Level 9 3 years ago Not surely possible. Still, you can take a chance to apply for university, but chances are 98% no. Good luck. Guide-Level 13 3 years ago Colleges under Delhi University are certainly the preferred amongst other by students, and thus the competition over getting a seat in good colleges is comparatively much higher.Also, with a percentage as meagre as 68.8, you won\\'t be able to make it to the cut offs at Hansraj college, which certa...Colleges under Delhi University are certainly the preferred amongst other by students, and thus the competition over getting a seat in good colleges is comparatively much higher.Also, with a percentage as meagre as 68.8, you won\\'t be able to make it to the cut offs at Hansraj college, which certainly is best amongst best under DU.Alternatively, you might try for other universities.more K 2021-06-02 01:15:27 Fees for bcom honours Reply to Khushbu k Beginner-Level 3 3 weeks ago B.Com. is a high profile undergraduate program aimed to create enhanced competence of career positioning tied up with opportunity to become a global professional. By pursuing this course, a student will attain conceptual knowledge and analytic skills that may help in areas of employment at variou...B.Com. is a high profile undergraduate program aimed to create enhanced competence of career positioning tied up with opportunity to become a global professional. By pursuing this course, a student will attain conceptual knowledge and analytic skills that may help in areas of employment at various levels. Chandigarh University is ranked among the Top and Best B.Com colleges in punjab and Chandigarh.Today, many MNCs are setting up their branch offices in India due to the Liberalization and Globalization of the Indian Economy. Hence there are many employment opportunities for Professional students. On completion of this course one can start ones career in Business Consultant/ Auditors / Tax Consultant / Chief Financial Analyst / Investment Banking / Capital Market / Personal Financial Advisors / Forensic Accounting / MNCs / Retail Stores / IT / Advertising and Media.SpecializationE CommerceAuditing &amp; TaxationAdvanced Cost &amp; Management AccountingMarketingFinancial Marketmore S 2020-10-06 14:36:36 I have secured 93%in class 12th in pcb I want to take admission in gargi college for b.sc. in life science ,is there any chance in 2020 Reply to Swati Satapathy Guide-Level 12 8 months ago Yes, ofcourse you can get apology for late response.This this time 1st cutoff for life science is 91, 88 for Gen and OBC. Contributor-Level 7 9 months ago You might need to wait for 2nd or 3rd cutoff if you belong to general category.Definitely you can get admission in Gargi college. N 2020-08-24 17:56:47 I got overall 59% in 12th cbse board can I admission in Hansraj College . Arts stream Reply to Nisha ahlawat M Contributor-Level 8 10 months ago With this percentage,It is almost impossible to get an admission in Hansraj College.Do not  worry ,do try other universities and colleges. A 2019-05-30 18:50:50 I have got 59% in graduation.can I get admission in DU Reply to Ayushi Gupta Scholar-Level 16 a year ago HelloVisit this link to check colleges based upon your rank:https://www.shiksha.com/b-tech/resources/college-predictor Scholar-Level 16 a year ago Hello,Please use the college predictor tool by Shiksha. This will help you to predict the college according to your rank/percentile. https://www.shiksha.com/college-predictorGood Luck. a 2019-05-16 11:44:34 I got 88% in Madhya Pradesh board. Can I get admission in Hans Raj College for B.Sc maths honors? Reply to ashok prajapati Guide-Level 13 a year ago Hi,The cutoff percentage of last year for B.Sc Maths was 97% for the general category, 95% for OBC and 93% for SC/ST/ NT. All the best. Contributor-Level 6 2 years ago Hello, Hansraj College is a reputed college of DU. The cutoff percentage of last year for B.Sc Maths was 97% for the general category, 95% for OBC and 93% for SC/ST/ NT. Please check the cutoff list of this year. You\"ll get to know everything in detail!Best of luck. N 2020-03-26 13:29:41 I got 85% in Bihar board .can I get  adimmion in Hans Raj college for b.com honors Reply to Nand Kishor Prasad Contributor-Level 6 a year ago Dear aspirant,The cut-off of Hand Raj College for B.Com (hons) is normally 97% and above for General category.For more details, kindly click on the link below:https://www.google.com/url?sa=t&source=web&rct=j&url=https://www.mapsofindia.com/education/delhi-university/hans-raj-college-cut-off.html&...Dear aspirant,The cut-off of Hand Raj College for B.Com (hons) is normally 97% and above for General category.For more details, kindly click on the link below:https://www.google.com/url?sa=t&source=web&rct=j&url=https://www.mapsofindia.com/education/delhi-university/hans-raj-college-cut-off.html&ved=2ahUKEwi50o3y3LfoAhV9yTgGHWcCAk4QFjABegQIBBAB&usg=AOvVaw1tDClSmhhnft6-HXCw1QDTmore a 2020-02-23 14:50:19 Which college is better for B.Com (Honours): Hans Raj College or Kirori Mal College? Reply to ansh sharma S Guide-Level 15 a year ago It has better rating than KMC. Hansraj should be your priority of course. It has a better rating than KMC. Being in North-Campus, both the colleges have equal reputation and both are good but still, if you want to get involved in extra-curriculum too, then Hansraj is a better option. Get our experts to answer your questions within 24 Hrs Trade Marks belong to the respective owners. Copyright © 2021 Info edge India Ltd. All rights reserved. We use cookies to improve your experience. By continuing to browse the site, you agree to our Privacy Policy and Cookie Policy.'],\n",
              " ['PSGR Krishnammal College for Women ',\n",
              "  'https://www.shiksha.com/college/psgr-krishnammal-college-for-women-coimbatore-22882',\n",
              "  \"Ranked 96 for BBA  by India Today 2021 Updated on Mar 18, 2019 Jul 5, 2021: Top 10 BBA Colleges with Best Value for Money - India Today Rankings 2021 Go to website... http://www.psgrkcw.ac.in #96 India Today Distribution of Rating Placements: There are good placement opportunities but with average salary packages. Main areas of opportunities, especially for English, are in IT and service sectors and also in schools. Some placements are conducted for soft skill training. Thus it is a fair and good opportunity. Infrastructure: The food served here is good, and fair hostel facilities are provided. Varieties of food items served are quite routine, and there is very less repetition of the same food in a week. Hygiene is the attracting thing in the hostel ... Placements: The way they are encouraging the students is very awesome. They motivate students by conducting extra classes with professional workers, which is a great help for them to attend the interview. Many students got qualified in the interviews where they have joined. Infrastructure: The environment in the hostel was super to enhance the students. Facilities available for the students are very good. Our college has a sports club and many other clubs, which conducts activities for students. The library is very useful, ... Placements: Nearly 80% of students got placed in our course. Moreover, many companies visited here to recruit our students. The highest salary offered is Rs. 20,000 per month as a starter and the average salary offered is Rs. 12,000 per month. Companies like Wipro, ATS, Twirltact, Cognizant, Amazon Web Services Training, TCS and Infosys visit here to recruit our department students. Almost 100% of the students got an internship from our course. We got a programmer, etc., types of roles. Infrastructure: We have Wi-Fi connect... Placements: Almost 90% of the students from our course got placed. This course helps to develop a programme and also create a new app, and many students join this course. The highest salary package is offered in our course. Top recruiting companies like HCL, NTT, etc., visit our college for placements. This course helps us to learn many languages. Almost 90% of the students from our course got an internship in companies like NTT, TIDEL Park and KCT. Many top roles are offered in our course. Infrastructure: All facilities an... Placements: Many companies are offering many jobs for us. 95% of students are getting jobs very easily. Many of the students are moving to abroad by choosing their job. They are getting more salaries. Amazon and etc. Companies are providing many jobs and we people's are using it. Infrastructure: Classrooms, labs, library and Wi-Fi are available for us in our college campus. Wi-Fi is also available in the hostel. Medical facilities are too good in the hostel. They're providing variety of foods for us. Stationery products are... Placements: Around 85% of the students get placed in B.Sc IT. Many students got placement and our college is one of the best in providing placements. Students are lucky to study at PSGRK College. I am not sure about the recruiting companies but they offer us jobs in companies like HTC, etc. Infrastructure: The entire campus is Wi-Fi enabled. Separate labs are available for students and each department has a separate block. We have 2 libraries. The food served in the hostel mess is good and it is hygienic. Medical facilities... Placements: In our course, many students have chosen this course. In our college, all the topmost companies visit for conducting interviews for our benefits and improvement. The head of company roles are offered, and many students join for their betterment of studies. Infrastructure: In our college, fast Wi-Fi connection is provided for our improvement of knowledge. The library usage is compulsory in our college as we have credit points for it. Classrooms have a projector for our understanding. Labs are available for our pr... Placements: About 65% of the student get placed at the college. Our college is very popular in Coimbatore city. There are more than 2,000 students in the college. I suggest you join this college. Infrastructure: Many facilities are available in the college. Facilities like canteen, library, labs and sports arena are available here. Our college provides about 8 hostels for students, and there is safety in all hostels. The cab facility is also there. Many college buses are available here. D 2019-05-25 18:15:47 Any entrance test for joining msc computer science? Reply to Divya bharathi.R Rajkumar Guide-Level 15 2 years ago Admission to M.Sc in computer science program is both entrance examination based and merit-based. Certain universities like Delhi University offer both direct admission and entrance based admission to the program.Universities like Delhi University and Savitribai Phule Pune University, conduct ent...Admission to M.Sc in computer science program is both entrance examination based and merit-based. Certain universities like Delhi University offer both direct admission and entrance based admission to the program.Universities like Delhi University and Savitribai Phule Pune University, conduct entrance examination for admission to M.Sc. Computer Science. The Entrance exam is of 2-3 hours duration and contains questions from Computer Science, Mathematics and English Language. The test paper may be of subjective and/or objective type.more L 2018-10-14 12:40:34 I have done my 12th with 84% with maths and biology. Is it possible to get admission here? Reply to Logeshwari Perumal S Guide-Level 12 2 years ago Yes, you are eligible for admission for this course based on the percentage scored in class 12th. R 2018-05-10 15:03:15 What is the eligibility criteria for BBA in international business at PSGR Krishnammal College for Women? Reply to Raghavi A Guide-Level 13 2 years ago Hi, Candidates should have passed or appeared in Class XII final exam in any discipline from a recognised board, university or council. Guide-Level 12 2 years ago 10+2 Examination or equivalent of any recognized Board Council in any discipline. A 2018-05-22 09:27:26 How I take B.Com after Diploma in Commercial Practice? Reply to Aswathy A Scholar-Level 17 3 years ago You are eligible to join in the B.Com course. The eligibility of the course is that, candidate should have passed in class 12th with 60% marks in recognized board any stream. But, preference is given to commerce student. Can you mention your department in Diploma? S 2018-04-30 16:12:16 When will admission begin at PSGR Krishnammal College for Women for English literature course? Reply to Senthil Kumar k Guide-Level 12 3 years ago Issue of Application formsFor Under Graduate Courses : 1st week of AprilFor Post Graduate Courses : 1st week of AprilAdmissions Closing DateFor Under Graduate Courses : 31st JulyFor Post Graduate Courses : 15th August R 2018-05-09 18:10:21 What all jobs are offered after B.Sc in IT? Reply to Rithanya Kannan r Scholar-Level 18 3 years ago Career Opportunities after B.Sc IT:Career opportunities are available for IT graduates both in India as well as abroad. Once students have completed their studies, they can get jobs with firms of the private or public sectors. Because of the use of information technology in all most all fields to...Career Opportunities after B.Sc IT:Career opportunities are available for IT graduates both in India as well as abroad. Once students have completed their studies, they can get jobs with firms of the private or public sectors. Because of the use of information technology in all most all fields today, the IT sector has seen a tremendous growth in the past few years. A few job types available for students of B.Sc IT are:Application ProgrammerComputer Information SpecialistComputer Support SpecialistDatabase AdministratorEnterprise Information OfficerGraphic DesignerHardware and Network ExpertInformation ArchitectInformation Security CoordinatorInformation Systems ManagerInformation TechnologistLegal Information SpecialistMaintenance TechnicianOnline EditorQuality AnalystStrategic Information PlannerSystem AdministratorSystem AnalystSystem DesignerTrainerWeb DesignerA variety of tests are carried out in the public sector for taking in these graduates. They can appear for the U.P.S.C. exams, Air Force Accounts exams or the Combined Defense Services exam. Another option available for graduates is to apply for job in the banking sector.more R 2017-06-11 18:19:52 Is commerce with marketing in +2 enough to pursue B.Com professional in PSGR Krishnammal College for Women? Reply to Ramya Suresh Beginner-Level 5 4 years ago Yes, you can do. All the best. Get our experts to answer your questions within 24 Hrs Trade Marks belong to the respective owners. Copyright © 2021 Info edge India Ltd. All rights reserved. We use cookies to improve your experience. By continuing to browse the site, you agree to our Privacy Policy and Cookie Policy.\"]]"
            ]
          },
          "metadata": {
            "tags": []
          },
          "execution_count": 18
        }
      ]
    },
    {
      "cell_type": "markdown",
      "metadata": {
        "id": "vnt0l7xFGlD3"
      },
      "source": [
        "**Converting to Pandas dataframe, for neat structure**"
      ]
    },
    {
      "cell_type": "code",
      "metadata": {
        "colab": {
          "base_uri": "https://localhost:8080/",
          "height": 357
        },
        "id": "cf5vuhsJDOvj",
        "outputId": "7121aefc-fc10-49de-845c-352c8059781c"
      },
      "source": [
        "df_data = pd.DataFrame(rows, columns=cols)\n",
        "df_data"
      ],
      "execution_count": null,
      "outputs": [
        {
          "output_type": "execute_result",
          "data": {
            "text/html": [
              "<div>\n",
              "<style scoped>\n",
              "    .dataframe tbody tr th:only-of-type {\n",
              "        vertical-align: middle;\n",
              "    }\n",
              "\n",
              "    .dataframe tbody tr th {\n",
              "        vertical-align: top;\n",
              "    }\n",
              "\n",
              "    .dataframe thead th {\n",
              "        text-align: right;\n",
              "    }\n",
              "</style>\n",
              "<table border=\"1\" class=\"dataframe\">\n",
              "  <thead>\n",
              "    <tr style=\"text-align: right;\">\n",
              "      <th></th>\n",
              "      <th>College Name</th>\n",
              "      <th>College Web Link</th>\n",
              "      <th>Web Page Content</th>\n",
              "    </tr>\n",
              "  </thead>\n",
              "  <tbody>\n",
              "    <tr>\n",
              "      <th>0</th>\n",
              "      <td>Miranda House</td>\n",
              "      <td>https://www.shiksha.com/college/miranda-house-...</td>\n",
              "      <td>Ranked 2 for Science  by India Today 2021  +3 ...</td>\n",
              "    </tr>\n",
              "    <tr>\n",
              "      <th>1</th>\n",
              "      <td>Lady Shri Ram College for Women</td>\n",
              "      <td>https://www.shiksha.com/college/lady-shri-ram-...</td>\n",
              "      <td>Ranked 3 for Commerce  by India Today 2021  +4...</td>\n",
              "    </tr>\n",
              "    <tr>\n",
              "      <th>2</th>\n",
              "      <td>Hindu College</td>\n",
              "      <td>https://www.shiksha.com/college/the-hindu-coll...</td>\n",
              "      <td>Updated on Sep 5, 2014 Jun 30, 2021: Top 10 Co...</td>\n",
              "    </tr>\n",
              "    <tr>\n",
              "      <th>3</th>\n",
              "      <td>St Stephen’s College</td>\n",
              "      <td>https://www.shiksha.com/college/st-stephen-s-c...</td>\n",
              "      <td>Page not found. Sorry, the page you were looki...</td>\n",
              "    </tr>\n",
              "    <tr>\n",
              "      <th>4</th>\n",
              "      <td>Presidency College</td>\n",
              "      <td>https://www.shiksha.com/college/presidency-col...</td>\n",
              "      <td>Ranked 24 for Arts  by The Week 2019 Updated o...</td>\n",
              "    </tr>\n",
              "    <tr>\n",
              "      <th>5</th>\n",
              "      <td>Loyola College</td>\n",
              "      <td>https://www.shiksha.com/college/loyola-college...</td>\n",
              "      <td>Ranked 3 for BCA  by India Today 2021  +9 more...</td>\n",
              "    </tr>\n",
              "    <tr>\n",
              "      <th>6</th>\n",
              "      <td>St Xavier’s College</td>\n",
              "      <td>https://www.shiksha.com/college/st-xavier-s-co...</td>\n",
              "      <td>Ranked 6 for Commerce  by The Week 2020  +3 mo...</td>\n",
              "    </tr>\n",
              "    <tr>\n",
              "      <th>7</th>\n",
              "      <td>Ramakrishna Mission Vidyamandira</td>\n",
              "      <td>https://www.shiksha.com/college/ramakrishna-mi...</td>\n",
              "      <td>Updated on Apr 12, 2019 Go to website... http:...</td>\n",
              "    </tr>\n",
              "    <tr>\n",
              "      <th>8</th>\n",
              "      <td>Hansraj College</td>\n",
              "      <td>https://www.shiksha.com/college/hansraj-colleg...</td>\n",
              "      <td>Ranked 4 for Commerce  by India Today 2021  +5...</td>\n",
              "    </tr>\n",
              "    <tr>\n",
              "      <th>9</th>\n",
              "      <td>PSGR Krishnammal College for Women</td>\n",
              "      <td>https://www.shiksha.com/college/psgr-krishnamm...</td>\n",
              "      <td>Ranked 96 for BBA  by India Today 2021 Updated...</td>\n",
              "    </tr>\n",
              "  </tbody>\n",
              "</table>\n",
              "</div>"
            ],
            "text/plain": [
              "                          College Name  ...                                   Web Page Content\n",
              "0                       Miranda House   ...  Ranked 2 for Science  by India Today 2021  +3 ...\n",
              "1     Lady Shri Ram College for Women   ...  Ranked 3 for Commerce  by India Today 2021  +4...\n",
              "2                       Hindu College   ...  Updated on Sep 5, 2014 Jun 30, 2021: Top 10 Co...\n",
              "3                St Stephen’s College   ...  Page not found. Sorry, the page you were looki...\n",
              "4                  Presidency College   ...  Ranked 24 for Arts  by The Week 2019 Updated o...\n",
              "5                      Loyola College   ...  Ranked 3 for BCA  by India Today 2021  +9 more...\n",
              "6                 St Xavier’s College   ...  Ranked 6 for Commerce  by The Week 2020  +3 mo...\n",
              "7    Ramakrishna Mission Vidyamandira   ...  Updated on Apr 12, 2019 Go to website... http:...\n",
              "8                     Hansraj College   ...  Ranked 4 for Commerce  by India Today 2021  +5...\n",
              "9  PSGR Krishnammal College for Women   ...  Ranked 96 for BBA  by India Today 2021 Updated...\n",
              "\n",
              "[10 rows x 3 columns]"
            ]
          },
          "metadata": {
            "tags": []
          },
          "execution_count": 19
        }
      ]
    },
    {
      "cell_type": "code",
      "metadata": {
        "id": "RA-zrSdc9zPt"
      },
      "source": [
        "with open('_CollegeDetails.csv', 'w') as f: \n",
        "    write = csv.writer(f)\n",
        "    write.writerow(cols) \n",
        "    write.writerows(rows)"
      ],
      "execution_count": null,
      "outputs": []
    }
  ]
}